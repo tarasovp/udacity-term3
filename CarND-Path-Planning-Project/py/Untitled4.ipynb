{
 "cells": [
  {
   "cell_type": "code",
   "execution_count": 26,
   "metadata": {
    "collapsed": true
   },
   "outputs": [],
   "source": [
    "from trajectory.ptg import JMT"
   ]
  },
  {
   "cell_type": "code",
   "execution_count": null,
   "metadata": {
    "collapsed": true
   },
   "outputs": [],
   "source": []
  },
  {
   "cell_type": "code",
   "execution_count": 99,
   "metadata": {
    "collapsed": false
   },
   "outputs": [
    {
     "name": "stdout",
     "output_type": "stream",
     "text": [
      "(2.5, 0.35361154879133383, 1, 0.9050397707586728, 0)\n"
     ]
    },
    {
     "data": {
      "image/png": "[encoded data removed]",
      "text/plain": [
       "<matplotlib.figure.Figure at 0x10aaf4250>"
      ]
     },
     "metadata": {},
     "output_type": "display_data"
    }
   ],
   "source": [
    "T=2.5\n",
    "\n",
    "start_s=(0,20,0)\n",
    "end_s=[T*20+5,20,0]\n",
    "\n",
    "start_d=(2,0,0)\n",
    "end_d=(3,0,0)\n",
    "\n",
    "\n",
    "jmts=JMT(start_s, end_s, T), JMT(start_d, end_d, T)\n",
    "traj=(jmts[0],jmts[1],T)\n",
    "print (T, total_jerk_cost(traj), max_jerk_cost(traj), total_accel_cost(traj), max_accel_cost(traj))\n",
    "\n",
    "cnt_points=100\n",
    "points=np.zeros((cnt_points,2), dtype=np.float)\n",
    "\n",
    "for i in range(cnt_points):\n",
    "    t=T*float(i)/cnt_points\n",
    "    \n",
    "    s=sum([jmts[0][j]*t**j for j in range(6)])\n",
    "    d=sum([jmts[1][j]*t**j for j in range(6)])\n",
    "    points[i]=[s,d]\n",
    "    \n",
    "plt.scatter(points[:,0],points[:,1])\n",
    "plt.show()\n",
    "\n"
   ]
  },
  {
   "cell_type": "code",
   "execution_count": 28,
   "metadata": {
    "collapsed": false
   },
   "outputs": [],
   "source": [
    "jmts=JMT(start_s, end_s, T), JMT(start_d, end_d, T)"
   ]
  },
  {
   "cell_type": "code",
   "execution_count": 29,
   "metadata": {
    "collapsed": false
   },
   "outputs": [
    {
     "data": {
      "image/png": "[encoded data removed]",
      "text/plain": [
       "<matplotlib.figure.Figure at 0x10aa50ed0>"
      ]
     },
     "metadata": {},
     "output_type": "display_data"
    }
   ],
   "source": [
    "%matplotlib inline\n",
    "import matplotlib.pyplot as plt\n",
    "\n",
    "cnt_points=100\n",
    "points=np.zeros((cnt_points,2), dtype=np.float)\n",
    "\n",
    "for i in range(cnt_points):\n",
    "    t=2.5*float(i)/cnt_points\n",
    "    \n",
    "    s=sum([jmts[0][j]*t**j for j in range(6)])\n",
    "    d=sum([jmts[1][j]*t**j for j in range(6)])\n",
    "    points[i]=[s,d]\n",
    "    \n",
    "plt.scatter(points[:,0],points[:,1])\n",
    "plt.show()"
   ]
  },
  {
   "cell_type": "code",
   "execution_count": 89,
   "metadata": {
    "collapsed": false
   },
   "outputs": [],
   "source": [
    "from helpers import logistic, to_equation, differentiate, nearest_approach_to_any_vehicle, get_f_and_N_derivatives\n",
    "from constants import *\n",
    "\n",
    "def total_jerk_cost(traj):\n",
    "    s, d, t = traj\n",
    "    T=t\n",
    "    res=0\n",
    "    for q in (s,d):\n",
    "        s_dot = differentiate(q)\n",
    "        s_d_dot = differentiate(s_dot)\n",
    "        jerk = to_equation(differentiate(s_d_dot))\n",
    "        total_jerk = 0\n",
    "        dt = float(T) / 100.0\n",
    "        for i in range(100):\n",
    "            t = dt * i\n",
    "            j = jerk(t)\n",
    "            total_jerk += abs(j*dt)\n",
    "        jerk_per_second = total_jerk / T\n",
    "        res+=jerk_per_second\n",
    "        \n",
    "    return logistic(jerk_per_second / EXPECTED_JERK_IN_ONE_SEC )\n",
    "\n",
    "def max_jerk_cost(traj):\n",
    "    s, d, t = traj\n",
    "    T=t\n",
    "    res=0\n",
    "    for q in (s,d):\n",
    "        s_dot = differentiate(q)\n",
    "        s_d_dot = differentiate(s_dot)\n",
    "        jerk = to_equation(differentiate(s_d_dot))\n",
    "        total_jerk = 0\n",
    "        dt = float(T) / 100.0\n",
    "        for i in range(100):\n",
    "            t = dt * i\n",
    "            j = jerk(t)\n",
    "            total_jerk = max(j, total_jerk)\n",
    "        res+=total_jerk\n",
    "        \n",
    "    return  1 if res>MAX_JERK else 0\n",
    "\n",
    "def total_accel_cost(traj):\n",
    "    s, d, t = traj\n",
    "    t=T\n",
    "    s_dot = differentiate(s)\n",
    "    s_d_dot = differentiate(s_dot)\n",
    "    a = to_equation(s_d_dot)\n",
    "    total_acc = 0\n",
    "    dt = float(T) / 100.0\n",
    "    for i in range(100):\n",
    "        t = dt * i\n",
    "        acc = a(t)\n",
    "        total_acc += abs(acc*dt)\n",
    "    acc_per_second = total_acc / T\n",
    "    \n",
    "    return logistic(acc_per_second / EXPECTED_ACC_IN_ONE_SEC )\n",
    "    \n",
    "def max_accel_cost(traj):\n",
    "    s, d, t = traj\n",
    "    t=T\n",
    "    s_dot = differentiate(s)\n",
    "    s_d_dot = differentiate(s_dot)\n",
    "    a = to_equation(s_d_dot)\n",
    "    all_accs = [a(float(T)/100 * i) for i in range(100)]\n",
    "    max_acc = max(all_accs, key=abs)\n",
    "    if abs(max_acc) > MAX_ACCEL: return 1\n",
    "    else: return 0"
   ]
  },
  {
   "cell_type": "code",
   "execution_count": 65,
   "metadata": {
    "collapsed": false
   },
   "outputs": [
    {
     "ename": "TypeError",
     "evalue": "max_jerk_cost() takes exactly 1 argument (0 given)",
     "output_type": "error",
     "traceback": [
      "\u001b[0;31m---------------------------------------------------------------------------\u001b[0m",
      "\u001b[0;31mTypeError\u001b[0m                                 Traceback (most recent call last)",
      "\u001b[0;32m<ipython-input-65-80eec9d1a5ca>\u001b[0m in \u001b[0;36m<module>\u001b[0;34m()\u001b[0m\n\u001b[0;32m----> 1\u001b[0;31m \u001b[0mmax_jerk_cost\u001b[0m\u001b[0;34m(\u001b[0m\u001b[0;34m)\u001b[0m\u001b[0;34m\u001b[0m\u001b[0m\n\u001b[0m",
      "\u001b[0;31mTypeError\u001b[0m: max_jerk_cost() takes exactly 1 argument (0 given)"
     ]
    }
   ],
   "source": [
    "max_jerk_cost"
   ]
  },
  {
   "cell_type": "code",
   "execution_count": 39,
   "metadata": {
    "collapsed": false
   },
   "outputs": [
    {
     "name": "stdout",
     "output_type": "stream",
     "text": [
      "(array([  0.    ,  20.    ,   0.    , -12.8   ,   7.68  ,  -1.2288]), [20.0, 0.0, -38.399999999999977, 30.71999999999997, -6.143999999999993], [0.0, -76.799999999999955, 92.159999999999911, -24.575999999999972])\n"
     ]
    },
    {
     "data": {
      "text/plain": [
       "0.9999992396376944"
      ]
     },
     "execution_count": 39,
     "metadata": {},
     "output_type": "execute_result"
    }
   ],
   "source": [
    "total_jerk_cost(traj)"
   ]
  },
  {
   "cell_type": "code",
   "execution_count": 83,
   "metadata": {
    "collapsed": false
   },
   "outputs": [
    {
     "data": {
      "text/plain": [
       "<function __main__.max_jerk_cost>"
      ]
     },
     "execution_count": 83,
     "metadata": {},
     "output_type": "execute_result"
    }
   ],
   "source": [
    "max_jerk_cost"
   ]
  },
  {
   "cell_type": "code",
   "execution_count": 91,
   "metadata": {
    "collapsed": true
   },
   "outputs": [],
   "source": [
    "s, d, t = traj\n",
    "t=T\n",
    "s_dot = differentiate(s)\n",
    "s_d_dot = differentiate(s_dot)\n",
    "a = to_equation(s_d_dot)\n",
    "total_acc = 0\n",
    "dt = float(T) / 100.0\n",
    "for i in range(100):\n",
    "    t = dt * i\n",
    "    acc = a(t)\n",
    "    total_acc += abs(acc*dt)\n",
    "acc_per_second = total_acc / T\n"
   ]
  },
  {
   "cell_type": "code",
   "execution_count": 94,
   "metadata": {
    "collapsed": false
   },
   "outputs": [
    {
     "data": {
      "text/plain": [
       "[0.0, 0.0, 0.0, 0.0]"
      ]
     },
     "execution_count": 94,
     "metadata": {},
     "output_type": "execute_result"
    }
   ],
   "source": [
    "s_d_dot"
   ]
  },
  {
   "cell_type": "code",
   "execution_count": 95,
   "metadata": {
    "collapsed": false
   },
   "outputs": [
    {
     "data": {
      "text/plain": [
       "(array([  0.,  20.,   0.,   0.,   0.,   0.]),\n",
       " array([ 2.     ,  0.     ,  0.     ,  0.64   , -0.384  ,  0.06144]),\n",
       " 2.5)"
      ]
     },
     "execution_count": 95,
     "metadata": {},
     "output_type": "execute_result"
    }
   ],
   "source": [
    "traj"
   ]
  },
  {
   "cell_type": "code",
   "execution_count": null,
   "metadata": {
    "collapsed": true
   },
   "outputs": [],
   "source": []
  }
 ],
 "metadata": {
  "kernelspec": {
   "display_name": "Python 2",
   "language": "python",
   "name": "python2"
  },
  "language_info": {
   "codemirror_mode": {
    "name": "ipython",
    "version": 2
   },
   "file_extension": ".py",
   "mimetype": "text/x-python",
   "name": "python",
   "nbconvert_exporter": "python",
   "pygments_lexer": "ipython2",
   "version": "2.7.13"
  }
 },
 "nbformat": 4,
 "nbformat_minor": 0
}
