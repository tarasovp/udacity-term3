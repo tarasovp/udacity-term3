{
 "cells": [
  {
   "cell_type": "code",
   "execution_count": 2,
   "metadata": {
    "collapsed": false
   },
   "outputs": [],
   "source": [
    "from cost import cost_traj\n",
    "from ptg import JMT\n",
    "from traj import gen_trajectories, get_best_trajectrory\n"
   ]
  },
  {
   "cell_type": "raw",
   "metadata": {},
   "source": [
    "%%sh\n",
    "\n",
    "cp ../py/log.txt log_example!!!.txt"
   ]
  },
  {
   "cell_type": "code",
   "execution_count": 3,
   "metadata": {
    "collapsed": false
   },
   "outputs": [],
   "source": [
    "with open('../py/log.txt','r') as f:\n",
    "    data=f.read()\n",
    "import json\n",
    "data1=[json.loads(a) for a in data.split('\\n')[:-1] ]\n",
    "\n",
    "needed=[]\n",
    "\n",
    "from test import *\n",
    "\n",
    "for i,a in enumerate(data1):\n",
    "    prev_x, prev_y, end_path_s, end_path_d, car_speed, ref_yaw, other_cars=get_variables(a)\n",
    "    l= (get_best_line(other_cars, line, end_path_s, car_speed))\n",
    "    #print (a['d'])\n",
    "    if l!=1:\n",
    "        needed.append(i)"
   ]
  },
  {
   "cell_type": "code",
   "execution_count": 4,
   "metadata": {
    "collapsed": false
   },
   "outputs": [
    {
     "data": {
      "text/plain": [
       "(865, 2037207)"
      ]
     },
     "execution_count": 4,
     "metadata": {},
     "output_type": "execute_result"
    }
   ],
   "source": [
    "len(needed), len(data)"
   ]
  },
  {
   "cell_type": "code",
   "execution_count": 5,
   "metadata": {
    "collapsed": false
   },
   "outputs": [],
   "source": [
    "from math import pi\n",
    "\n",
    "s=pi*(1.5**2)"
   ]
  },
  {
   "cell_type": "code",
   "execution_count": 6,
   "metadata": {
    "collapsed": false
   },
   "outputs": [],
   "source": [
    "%matplotlib inline\n",
    "import matplotlib.pyplot as plt\n",
    "weights=np.array([1000,5,1000,20,1000,50])\n",
    "\n",
    "def draw_best_traj(trajectories, target_vehicle, other_vehicles, cnt_points=100):\n",
    "    \n",
    "    rr=[]\n",
    "    for i in range(len(trajectories)):\n",
    "        rr.append(cost_traj(trajectories[i], other_v))\n",
    "        \n",
    "    tmp= np.dot(np.array(rr), weights.T)\n",
    "    best_traj=np.argmin(tmp)\n",
    "\n",
    "    cnt_points=100\n",
    "    points=np.zeros((cnt_points,2), dtype=np.float)\n",
    "\n",
    "    for tri, res in enumerate(trajectories):\n",
    "    \n",
    "        q=res[:2]\n",
    "        T=res[2]\n",
    "\n",
    "        for i in range(cnt_points):\n",
    "            t=T*float(i)/cnt_points\n",
    "\n",
    "            s=sum([q[0][j]*t**j for j in range(6)])\n",
    "            d=sum([q[1][j]*t**j for j in range(6)])\n",
    "            points[i]=[s,d]\n",
    "\n",
    "        if tri==best_traj:\n",
    "            plt.scatter(points[:,0],points[:,1], color='red', s=s, alpha=0.1)\n",
    "        else:\n",
    "            plt.scatter(points[:,0],points[:,1], color='blue', s =s, alpha=0.01)\n",
    "\n",
    "    \n",
    "    for v in other_v:\n",
    "        if v.state_in(0)[3] > 0 and v.state_in(0)[3]<4*3+2:\n",
    "            for i in range(cnt_points):\n",
    "                t=T*float(i)/cnt_points\n",
    "                points[i]=np.array(v.state_in(t))[[0,3]]\n",
    "\n",
    "            plt.scatter(points[:,0],points[:,1],color='green',s=s, alpha=0.01)\n",
    "\n",
    "\n",
    "    plt.title('Line: %d best_line: %d' %  (round((end_path_d-2)/4), best_line))\n",
    "    plt.show()\n",
    "    \n",
    "    return rr"
   ]
  },
  {
   "cell_type": "code",
   "execution_count": 7,
   "metadata": {
    "collapsed": false
   },
   "outputs": [
    {
     "data": {
      "text/plain": [
       "865"
      ]
     },
     "execution_count": 7,
     "metadata": {},
     "output_type": "execute_result"
    }
   ],
   "source": [
    "len(needed)"
   ]
  },
  {
   "cell_type": "code",
   "execution_count": 8,
   "metadata": {
    "collapsed": false
   },
   "outputs": [
    {
     "name": "stdout",
     "output_type": "stream",
     "text": [
      "cost: [1, 1.0, 1, 1.0, 0.0, 0.037115931656122925]\n",
      "cost: [1, 0.9999996789170513, 1, 1.0, 0.0, 0.037489748349543994]\n",
      "cost: [1, 0.9980906909722009, 1, 0.9999987451325496, 0.0, 0.03787112804542958]\n",
      "cost: [0, 0.9607518259080217, 1, 0.9951768535040404, 0.0, 0.03826030123408675]\n",
      "cost: [0, 0.8487252823092089, 1, 0.9125254071688453, 0.0, 0.03865750780903765]\n",
      "cost: [0, 0.7009423878144199, 0, 0.7126763827152489, 0.0, 0.039062997548296785]\n",
      "cost: [0, 0.5639180910453971, 0, 0.5095374815730389, 0.0, 0.03947703062530472]\n",
      "cost: [0, 0.45334078938376066, 0, 0.3597218229663439, 0.0, 0.0398998781516533]\n",
      "cost: [0, 0.36815679488118347, 0, 0.2584759710387208, 0.0, 0.04033182275391867]\n",
      "cost: [1, 1.0, 1, 1.0, 0.0, 0.037115931656122925]\n",
      "cost: [1, 0.9999996789170513, 1, 1.0, 0.0, 0.037489748349543994]\n",
      "cost: [1, 0.9980906909722009, 1, 0.9999987451325496, 0.0, 0.03787112804542958]\n",
      "cost: [0, 0.9607518259080217, 1, 0.9951768535040404, 0.0, 0.03826030123408675]\n",
      "cost: [0, 0.8487252823092089, 1, 0.9125254071688453, 0.0, 0.03865750780903765]\n",
      "cost: [0, 0.7009423878144199, 0, 0.7126763827152489, 0.0, 0.039062997548296785]\n",
      "cost: [0, 0.5639180910453971, 0, 0.5095374815730389, 0.0, 0.03947703062530472]\n",
      "cost: [0, 0.45334078938376066, 0, 0.3597218229663439, 0.0, 0.0398998781516533]\n",
      "cost: [0, 0.36815679488118347, 0, 0.2584759710387208, 0.0, 0.04033182275391867]\n"
     ]
    },
    {
     "data": {
      "image/png": "[encoded data removed]",
      "text/plain": [
       "<matplotlib.figure.Figure at 0x111be0240>"
      ]
     },
     "metadata": {},
     "output_type": "display_data"
    }
   ],
   "source": [
    "from helpers import Vehicle\n",
    "\n",
    "now = needed[0]\n",
    "\n",
    "prev_x, prev_y, end_path_s, end_path_d, car_speed, ref_yaw, other_cars=get_variables(data1[now])\n",
    "best_line=get_best_line(other_cars, line, end_path_s, car_speed)\n",
    "\n",
    "\n",
    "end_path_d, l\n",
    "\n",
    "trajectories=gen_trajectories(car_speed, best_line, end_path_s, end_path_d)\n",
    "vehicle = Vehicle([end_path_s,car_speed,0,end_path_d, 0,0])\n",
    "other_v= [Vehicle([a[0],a[2],0,a[1],0,0]) for a in other_cars]\n",
    "best_traj, cost_ob_best_traj= get_best_trajectrory(trajectories, other_v)\n",
    "\n",
    "res=draw_best_traj(trajectories,vehicle,  other_v)"
   ]
  },
  {
   "cell_type": "code",
   "execution_count": 9,
   "metadata": {
    "collapsed": false
   },
   "outputs": [
    {
     "name": "stdout",
     "output_type": "stream",
     "text": [
      "cost: [1, 1.0, 1, 1.0, 0.0, 0.2326532930210483]\n",
      "cost: [1, 0.9999994139918986, 1, 1.0, 0.0, 0.2326532930210483]\n",
      "cost: [1, 0.9975061148370201, 1, 0.9999978267042433, 0.0, 0.24029773481007655]\n",
      "cost: [0, 0.9545263343615038, 1, 0.9939230791870806, 0.0, 0.2603107744693067]\n",
      "cost: [0, 0.8347027905903983, 1, 0.9020472588580482, 0.0, 0.27876933818670424]\n",
      "cost: [0, 0.6835389577474962, 0, 0.6953682239372065, 0.0, 0.29463146627438896]\n",
      "cost: [0, 0.5469389346855114, 0, 0.49335766398609326, 0.0, 0.3076245893977272]\n",
      "cost: [0, 0.43827705730114475, 0, 0.3470493041913847, 0.0, 0.3179278159141816]\n",
      "cost: [0, 0.35524542603031484, 0, 0.24896012904335318, 0.0, 0.32598830189630035]\n"
     ]
    },
    {
     "ename": "ValueError",
     "evalue": "A value in x_new is above the interpolation range.",
     "output_type": "error",
     "traceback": [
      "\u001b[0;31m---------------------------------------------------------------------------\u001b[0m",
      "\u001b[0;31mValueError\u001b[0m                                Traceback (most recent call last)",
      "\u001b[0;32m<ipython-input-9-e5d469dee532>\u001b[0m in \u001b[0;36m<module>\u001b[0;34m()\u001b[0m\n\u001b[0;32m----> 1\u001b[0;31m \u001b[0mget_res\u001b[0m\u001b[0;34m(\u001b[0m\u001b[0mdata1\u001b[0m\u001b[0;34m[\u001b[0m\u001b[0;34m-\u001b[0m\u001b[0;36m1\u001b[0m\u001b[0;34m]\u001b[0m\u001b[0;34m)\u001b[0m\u001b[0;34m\u001b[0m\u001b[0m\n\u001b[0m",
      "\u001b[0;32m/Users/p.tarasov/notebooks/udacity-term3/CarND-Path-Planning-Project/py/test.py\u001b[0m in \u001b[0;36mget_res\u001b[0;34m(data)\u001b[0m\n\u001b[1;32m    281\u001b[0m \u001b[0;34m\u001b[0m\u001b[0m\n\u001b[1;32m    282\u001b[0m \tres = get_interpolated_points(new_points, ref_yaw, prev_x, prev_y, \n\u001b[0;32m--> 283\u001b[0;31m \t\ttarget_speed=min(line_max_speed,max_speed), car_speed=car_speed, t=T)\n\u001b[0m\u001b[1;32m    284\u001b[0m         \u001b[0;32mreturn\u001b[0m \u001b[0mres\u001b[0m\u001b[0;34m\u001b[0m\u001b[0m\n\u001b[1;32m    285\u001b[0m \u001b[0;34m\u001b[0m\u001b[0m\n",
      "\u001b[0;32m/Users/p.tarasov/notebooks/udacity-term3/CarND-Path-Planning-Project/py/test.py\u001b[0m in \u001b[0;36mget_interpolated_points\u001b[0;34m(new_points, ref_yaw, last_x, last_y, target_speed, car_speed, t)\u001b[0m\n\u001b[1;32m     94\u001b[0m \u001b[0;34m\u001b[0m\u001b[0m\n\u001b[1;32m     95\u001b[0m                 \u001b[0mx_point\u001b[0m \u001b[0;34m=\u001b[0m \u001b[0mx_addon\u001b[0m \u001b[0;34m+\u001b[0m \u001b[0mcurrent_speed\u001b[0m\u001b[0;34m*\u001b[0m\u001b[0;36m0.02\u001b[0m\u001b[0;34m\u001b[0m\u001b[0m\n\u001b[0;32m---> 96\u001b[0;31m                 \u001b[0my_point\u001b[0m \u001b[0;34m=\u001b[0m \u001b[0ms\u001b[0m\u001b[0;34m(\u001b[0m\u001b[0mx_point\u001b[0m\u001b[0;34m)\u001b[0m\u001b[0;34m\u001b[0m\u001b[0m\n\u001b[0m\u001b[1;32m     97\u001b[0m \u001b[0;34m\u001b[0m\u001b[0m\n\u001b[1;32m     98\u001b[0m                 \u001b[0mx_addon\u001b[0m \u001b[0;34m=\u001b[0m \u001b[0mx_point\u001b[0m\u001b[0;34m\u001b[0m\u001b[0m\n",
      "\u001b[0;32m/Users/p.tarasov/anaconda3/envs/carnd-term1/lib/python3.5/site-packages/scipy/interpolate/polyint.py\u001b[0m in \u001b[0;36m__call__\u001b[0;34m(self, x)\u001b[0m\n\u001b[1;32m     77\u001b[0m         \"\"\"\n\u001b[1;32m     78\u001b[0m         \u001b[0mx\u001b[0m\u001b[0;34m,\u001b[0m \u001b[0mx_shape\u001b[0m \u001b[0;34m=\u001b[0m \u001b[0mself\u001b[0m\u001b[0;34m.\u001b[0m\u001b[0m_prepare_x\u001b[0m\u001b[0;34m(\u001b[0m\u001b[0mx\u001b[0m\u001b[0;34m)\u001b[0m\u001b[0;34m\u001b[0m\u001b[0m\n\u001b[0;32m---> 79\u001b[0;31m         \u001b[0my\u001b[0m \u001b[0;34m=\u001b[0m \u001b[0mself\u001b[0m\u001b[0;34m.\u001b[0m\u001b[0m_evaluate\u001b[0m\u001b[0;34m(\u001b[0m\u001b[0mx\u001b[0m\u001b[0;34m)\u001b[0m\u001b[0;34m\u001b[0m\u001b[0m\n\u001b[0m\u001b[1;32m     80\u001b[0m         \u001b[0;32mreturn\u001b[0m \u001b[0mself\u001b[0m\u001b[0;34m.\u001b[0m\u001b[0m_finish_y\u001b[0m\u001b[0;34m(\u001b[0m\u001b[0my\u001b[0m\u001b[0;34m,\u001b[0m \u001b[0mx_shape\u001b[0m\u001b[0;34m)\u001b[0m\u001b[0;34m\u001b[0m\u001b[0m\n\u001b[1;32m     81\u001b[0m \u001b[0;34m\u001b[0m\u001b[0m\n",
      "\u001b[0;32m/Users/p.tarasov/anaconda3/envs/carnd-term1/lib/python3.5/site-packages/scipy/interpolate/interpolate.py\u001b[0m in \u001b[0;36m_evaluate\u001b[0;34m(self, x_new)\u001b[0m\n\u001b[1;32m    608\u001b[0m         \u001b[0my_new\u001b[0m \u001b[0;34m=\u001b[0m \u001b[0mself\u001b[0m\u001b[0;34m.\u001b[0m\u001b[0m_call\u001b[0m\u001b[0;34m(\u001b[0m\u001b[0mself\u001b[0m\u001b[0;34m,\u001b[0m \u001b[0mx_new\u001b[0m\u001b[0;34m)\u001b[0m\u001b[0;34m\u001b[0m\u001b[0m\n\u001b[1;32m    609\u001b[0m         \u001b[0;32mif\u001b[0m \u001b[0;32mnot\u001b[0m \u001b[0mself\u001b[0m\u001b[0;34m.\u001b[0m\u001b[0m_extrapolate\u001b[0m\u001b[0;34m:\u001b[0m\u001b[0;34m\u001b[0m\u001b[0m\n\u001b[0;32m--> 610\u001b[0;31m             \u001b[0mbelow_bounds\u001b[0m\u001b[0;34m,\u001b[0m \u001b[0mabove_bounds\u001b[0m \u001b[0;34m=\u001b[0m \u001b[0mself\u001b[0m\u001b[0;34m.\u001b[0m\u001b[0m_check_bounds\u001b[0m\u001b[0;34m(\u001b[0m\u001b[0mx_new\u001b[0m\u001b[0;34m)\u001b[0m\u001b[0;34m\u001b[0m\u001b[0m\n\u001b[0m\u001b[1;32m    611\u001b[0m             \u001b[0;32mif\u001b[0m \u001b[0mlen\u001b[0m\u001b[0;34m(\u001b[0m\u001b[0my_new\u001b[0m\u001b[0;34m)\u001b[0m \u001b[0;34m>\u001b[0m \u001b[0;36m0\u001b[0m\u001b[0;34m:\u001b[0m\u001b[0;34m\u001b[0m\u001b[0m\n\u001b[1;32m    612\u001b[0m                 \u001b[0;31m# Note fill_value must be broadcast up to the proper size\u001b[0m\u001b[0;34m\u001b[0m\u001b[0;34m\u001b[0m\u001b[0m\n",
      "\u001b[0;32m/Users/p.tarasov/anaconda3/envs/carnd-term1/lib/python3.5/site-packages/scipy/interpolate/interpolate.py\u001b[0m in \u001b[0;36m_check_bounds\u001b[0;34m(self, x_new)\u001b[0m\n\u001b[1;32m    640\u001b[0m                              \"range.\")\n\u001b[1;32m    641\u001b[0m         \u001b[0;32mif\u001b[0m \u001b[0mself\u001b[0m\u001b[0;34m.\u001b[0m\u001b[0mbounds_error\u001b[0m \u001b[0;32mand\u001b[0m \u001b[0mabove_bounds\u001b[0m\u001b[0;34m.\u001b[0m\u001b[0many\u001b[0m\u001b[0;34m(\u001b[0m\u001b[0;34m)\u001b[0m\u001b[0;34m:\u001b[0m\u001b[0;34m\u001b[0m\u001b[0m\n\u001b[0;32m--> 642\u001b[0;31m             raise ValueError(\"A value in x_new is above the interpolation \"\n\u001b[0m\u001b[1;32m    643\u001b[0m                              \"range.\")\n\u001b[1;32m    644\u001b[0m \u001b[0;34m\u001b[0m\u001b[0m\n",
      "\u001b[0;31mValueError\u001b[0m: A value in x_new is above the interpolation range."
     ]
    }
   ],
   "source": [
    "get_res(data1[-1])"
   ]
  },
  {
   "cell_type": "code",
   "execution_count": 8,
   "metadata": {
    "collapsed": false
   },
   "outputs": [
    {
     "name": "stdout",
     "output_type": "stream",
     "text": [
      "cost: [0, 0.3663331402530554, 0, 0.257128671643563, 0.0, 0.06659438699668674]\n"
     ]
    },
    {
     "data": {
      "text/plain": [
       "[0, 0.3663331402530554, 0, 0.257128671643563, 0.0, 0.06659438699668674]"
      ]
     },
     "execution_count": 8,
     "metadata": {},
     "output_type": "execute_result"
    }
   ],
   "source": [
    "cost_traj(trajectories[-1], other_v)"
   ]
  },
  {
   "cell_type": "code",
   "execution_count": 68,
   "metadata": {
    "collapsed": false,
    "scrolled": false
   },
   "outputs": [
    {
     "data": {
      "text/plain": [
       "5"
      ]
     },
     "execution_count": 68,
     "metadata": {},
     "output_type": "execute_result"
    }
   ],
   "source": [
    "VEHICLE_RADIUS=1.5\n",
    "traj=trajectories[-1]\n",
    "other_vehicles=other_v\n",
    "\n",
    "nearest=9999\n",
    "T= traj[-1]\n",
    "q=traj[:2]\n",
    "\n",
    "\n",
    "for i in range(cnt_points):\n",
    "    t=T*float(i)/cnt_points\n",
    "    s=sum([q[0][j]*t**j for j in range(6)])\n",
    "    d=sum([q[1][j]*t**j for j in range(6)])\n",
    "\n",
    "    other_sd=[np.array(v.state_in(t))[[0,3]] for v in other_vehicles]\n",
    "    zzz=[((s1-s)**2+(d1-d)**2)**(0.5) for s1,d1 in other_sd]\n",
    "    tmp_nearst = min(zzz)\n",
    "    nearest=min([tmp_nearst, nearest])\n",
    "    #print (nearest)\n",
    "    j=np.argmin(zzz)\n",
    "    \n",
    "    plt.scatter([a[0] for u,a in enumerate(other_sd) if u!=j],[a[1] for u,a in enumerate(other_sd) if u!=j], color='blue')\n",
    "    plt.scatter([a[0] for u,a in enumerate(other_sd) if u==j],[a[1] for u,a in enumerate(other_sd) if u==j], color='red')\n",
    "    plt.scatter([s],[d],color='green')\n",
    "    \n",
    "    plt.title(str(nearest))\n",
    "    plt.show()\n",
    "\n",
    "print (nearest, 2*VEHICLE_RADIUS)\n",
    "#if nearest < 2*VEHICLE_RADIUS: return 1.0\n",
    "#else : return 0.0"
   ]
  },
  {
   "cell_type": "code",
   "execution_count": 39,
   "metadata": {
    "collapsed": false
   },
   "outputs": [
    {
     "data": {
      "text/plain": [
       "[83.372874488088016,\n",
       " 14.664223482932087,\n",
       " 210.55477183037229,\n",
       " 165.28610907668786,\n",
       " 160.63113615552027,\n",
       " 30.468686554744284,\n",
       " 41.202469564550299,\n",
       " 59.066274952492172,\n",
       " 41.852065521407802,\n",
       " 20.101675528140898,\n",
       " 127.99243722906762]"
      ]
     },
     "execution_count": 39,
     "metadata": {},
     "output_type": "execute_result"
    }
   ],
   "source": [
    "[a for u,a in enumerate(zzz) if u!=j]"
   ]
  },
  {
   "cell_type": "code",
   "execution_count": 41,
   "metadata": {
    "collapsed": false
   },
   "outputs": [
    {
     "data": {
      "text/plain": [
       "[array([ 1728.32563478,     1.978347  ]),\n",
       " array([ 1656.35257176,     1.867815  ]),\n",
       " array([ 1641.0396127,     1.990157 ]),\n",
       " array([ 1873.49770923,     5.87186   ]),\n",
       " array([ 1812.84730458,     9.845184  ]),\n",
       " array([ 1804.50942537,     5.826517  ]),\n",
       " array([ 1598.85428681,     6.119683  ]),\n",
       " array([ 1589.36502354,     2.569299  ]),\n",
       " array([ 1700.44073145,     5.958976  ]),\n",
       " array([ 1686.16366592,     5.91197   ]),\n",
       " array([ 1676.08946918,     5.903057  ]),\n",
       " array([ 1773.18765364,     2.034388  ])]"
      ]
     },
     "execution_count": 41,
     "metadata": {},
     "output_type": "execute_result"
    }
   ],
   "source": [
    "other_sd"
   ]
  },
  {
   "cell_type": "code",
   "execution_count": 42,
   "metadata": {
    "collapsed": false
   },
   "outputs": [
    {
     "data": {
      "text/plain": [
       "(1655.4275464719508, 9.9892400073916043)"
      ]
     },
     "execution_count": 42,
     "metadata": {},
     "output_type": "execute_result"
    }
   ],
   "source": [
    "s, d"
   ]
  },
  {
   "cell_type": "code",
   "execution_count": null,
   "metadata": {
    "collapsed": true
   },
   "outputs": [],
   "source": []
  }
 ],
 "metadata": {
  "kernelspec": {
   "display_name": "cars-v2",
   "language": "python",
   "name": "carnd-term1"
  },
  "language_info": {
   "codemirror_mode": {
    "name": "ipython",
    "version": 3
   },
   "file_extension": ".py",
   "mimetype": "text/x-python",
   "name": "python",
   "nbconvert_exporter": "python",
   "pygments_lexer": "ipython3",
   "version": "3.5.2"
  }
 },
 "nbformat": 4,
 "nbformat_minor": 0
}
