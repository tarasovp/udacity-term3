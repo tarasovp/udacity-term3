{
 "cells": [
  {
   "cell_type": "code",
   "execution_count": 130,
   "metadata": {
    "collapsed": false
   },
   "outputs": [],
   "source": [
    "%%sh\n",
    "\n",
    "rm ../xcode/Debug/log.txt"
   ]
  },
  {
   "cell_type": "code",
   "execution_count": 132,
   "metadata": {
    "collapsed": false
   },
   "outputs": [],
   "source": [
    "with open('../xcode/Debug/log.txt','r') as f:\n",
    "    data=f.read()"
   ]
  },
  {
   "cell_type": "code",
   "execution_count": 133,
   "metadata": {
    "collapsed": false
   },
   "outputs": [],
   "source": [
    "import json\n",
    "data1=[]\n",
    "for a in data.split('\\n'):\n",
    "    try:\n",
    "        data1.append(json.loads(a)[1])\n",
    "    except:\n",
    "        break"
   ]
  },
  {
   "cell_type": "raw",
   "metadata": {},
   "source": [
    "data1[-1]"
   ]
  },
  {
   "cell_type": "code",
   "execution_count": 128,
   "metadata": {
    "collapsed": false
   },
   "outputs": [],
   "source": [
    "with open('../xcode/Debug/out.txt','r') as f:\n",
    "    ##data3= f.read().split('\\n')\n",
    "    data3=[[float(b) for b in a.split()] for a in f.read().split('\\n')]"
   ]
  },
  {
   "cell_type": "code",
   "execution_count": 131,
   "metadata": {
    "collapsed": false
   },
   "outputs": [],
   "source": [
    "%%sh\n",
    "\n",
    "\n",
    "rm ../xcode/Debug/out.txt"
   ]
  },
  {
   "cell_type": "raw",
   "metadata": {
    "collapsed": false
   },
   "source": [
    "%matplotlib inline\n",
    "import matplotlib.pyplot as plt\n",
    "\n",
    "now=1221\n",
    "\n",
    "tmp=data1[now]\n",
    "\n",
    "axes = plt.gca()\n",
    "axes.set_ylim([0,10])\n",
    "\n",
    "tmp2=[[a[-2],a[-1]] for a in tmp['sensor_fusion'] if a[-1]>=0]\n",
    "plt.scatter([a[-2] % max_s for a in tmp2], [a[-1] for a in tmp2])\n",
    "plt.scatter([tmp['s']],[tmp['d']],color='red')\n",
    "plt.show()"
   ]
  },
  {
   "cell_type": "code",
   "execution_count": 60,
   "metadata": {
    "collapsed": false
   },
   "outputs": [],
   "source": [
    "res=[]\n",
    "for tmp in data1:\n",
    "    s,d = tmp['s'], tmp['d']\n",
    "    dist_min=99999\n",
    "    for a in tmp['sensor_fusion']:\n",
    "        os,od= (a[-2],a[-1])\n",
    "        dist = ((s-os)**2+(d-od)**2)**(0.5)\n",
    "        if dist<dist_min:\n",
    "            dist_min=dist\n",
    "    res.append(dist_min)"
   ]
  },
  {
   "cell_type": "code",
   "execution_count": 62,
   "metadata": {
    "collapsed": false
   },
   "outputs": [
    {
     "data": {
      "text/plain": [
       "(1278, 3.7219602950704673)"
      ]
     },
     "execution_count": 62,
     "metadata": {},
     "output_type": "execute_result"
    }
   ],
   "source": [
    "np.argmin(res), np.min(res)"
   ]
  },
  {
   "cell_type": "code",
   "execution_count": 63,
   "metadata": {
    "collapsed": false
   },
   "outputs": [
    {
     "data": {
      "text/plain": [
       "67.70396888645985"
      ]
     },
     "execution_count": 63,
     "metadata": {},
     "output_type": "execute_result"
    }
   ],
   "source": [
    "res[0]"
   ]
  },
  {
   "cell_type": "code",
   "execution_count": 64,
   "metadata": {
    "collapsed": false
   },
   "outputs": [
    {
     "data": {
      "text/plain": [
       "[9999.0, 67.7039, 9999.0]"
      ]
     },
     "execution_count": 64,
     "metadata": {},
     "output_type": "execute_result"
    }
   ],
   "source": [
    "data3[0]"
   ]
  },
  {
   "cell_type": "code",
   "execution_count": 66,
   "metadata": {
    "collapsed": false
   },
   "outputs": [
    {
     "data": {
      "text/plain": [
       "[21.4377, 0.479004, 37.8523]"
      ]
     },
     "execution_count": 66,
     "metadata": {},
     "output_type": "execute_result"
    }
   ],
   "source": [
    "data3[1278]"
   ]
  },
  {
   "cell_type": "code",
   "execution_count": 68,
   "metadata": {
    "collapsed": false
   },
   "outputs": [
    {
     "data": {
      "text/plain": [
       "(858.0807, 2.146389)"
      ]
     },
     "execution_count": 68,
     "metadata": {},
     "output_type": "execute_result"
    }
   ],
   "source": [
    "data1[1278]['s'],data1[1278]['d']"
   ]
  },
  {
   "cell_type": "code",
   "execution_count": 76,
   "metadata": {
    "collapsed": false
   },
   "outputs": [
    {
     "data": {
      "text/plain": [
       "[[-74.87869999999998, 9.951219],\n",
       " [-100.78049999999996, 10.09005],\n",
       " [44.83209999999997, 10.12508],\n",
       " [-37.852300000000014, 10.07318]]"
      ]
     },
     "execution_count": 76,
     "metadata": {},
     "output_type": "execute_result"
    }
   ],
   "source": [
    "[[a[-2]-data1[1278]['s'],a[-1]] for a in data1[1278]['sensor_fusion'] if a[-1]>=8]# and a[-1]<=8]"
   ]
  },
  {
   "cell_type": "code",
   "execution_count": 152,
   "metadata": {
    "collapsed": false
   },
   "outputs": [
    {
     "data": {
      "image/png": "[encoded data removed]",
      "text/plain": [
       "<matplotlib.figure.Figure at 0x11d41e518>"
      ]
     },
     "metadata": {},
     "output_type": "display_data"
    }
   ],
   "source": [
    "%matplotlib inline\n",
    "import matplotlib.pyplot as plt\n",
    "\n",
    "now=660\n",
    "\n",
    "tmp=data1[now]\n",
    "\n",
    "axes = plt.gca()\n",
    "axes.set_ylim([0,11])\n",
    "axes.set_xlim(tmp['s']-7,tmp['s']+7)\n",
    "\n",
    "\n",
    "\n",
    "tmp2=[[a[-2],a[-1]] for a in tmp['sensor_fusion'] if a[-1]>=0]\n",
    "plt.scatter([a[-2] % max_s for a in tmp2], [a[-1] for a in tmp2])\n",
    "plt.scatter([tmp['s']],[tmp['d']],color='red')\n",
    "plt.show()"
   ]
  },
  {
   "cell_type": "code",
   "execution_count": 101,
   "metadata": {
    "collapsed": false
   },
   "outputs": [
    {
     "data": {
      "text/plain": [
       "9.867392"
      ]
     },
     "execution_count": 101,
     "metadata": {},
     "output_type": "execute_result"
    }
   ],
   "source": [
    "tmp['d']"
   ]
  },
  {
   "cell_type": "code",
   "execution_count": 105,
   "metadata": {
    "collapsed": false
   },
   "outputs": [
    {
     "data": {
      "text/plain": [
       "124"
      ]
     },
     "execution_count": 105,
     "metadata": {},
     "output_type": "execute_result"
    }
   ],
   "source": [
    "len(data1)"
   ]
  },
  {
   "cell_type": "code",
   "execution_count": 153,
   "metadata": {
    "collapsed": false
   },
   "outputs": [
    {
     "name": "stdout",
     "output_type": "stream",
     "text": [
      "0 1 0 \n",
      "0 1 0 \n",
      "0 1 0 \n",
      "0 1 0 \n",
      "0 1 0 \n",
      "0 1 0 \n",
      "0 1 0 \n",
      "0 1 0 \n",
      "0 1 0 \n",
      "0 1 0 \n"
     ]
    }
   ],
   "source": [
    "%%sh\n",
    "\n",
    "tail ../xcode/Debug/out.txt"
   ]
  },
  {
   "cell_type": "code",
   "execution_count": 144,
   "metadata": {
    "collapsed": false
   },
   "outputs": [
    {
     "data": {
      "text/plain": [
       "[1.0, 1.0, 0.0]"
      ]
     },
     "execution_count": 144,
     "metadata": {},
     "output_type": "execute_result"
    }
   ],
   "source": [
    "data3[-30]"
   ]
  },
  {
   "cell_type": "code",
   "execution_count": 147,
   "metadata": {
    "collapsed": false
   },
   "outputs": [
    {
     "data": {
      "image/png": "[encoded data removed]",
      "text/plain": [
       "<matplotlib.figure.Figure at 0x10e902d68>"
      ]
     },
     "metadata": {},
     "output_type": "display_data"
    }
   ],
   "source": [
    "plt.plot([a['d'] for a in data1])\n",
    "plt.show()"
   ]
  },
  {
   "cell_type": "code",
   "execution_count": 150,
   "metadata": {
    "collapsed": false
   },
   "outputs": [
    {
     "data": {
      "text/plain": [
       "[(645, 4.972594),\n",
       " (646, 4.892409),\n",
       " (647, 4.812334),\n",
       " (648, 4.732148),\n",
       " (649, 4.652084),\n",
       " (650, 4.571887),\n",
       " (651, 4.491823),\n",
       " (652, 4.411182),\n",
       " (653, 4.331385),\n",
       " (654, 4.213962),\n",
       " (655, 4.135288),\n",
       " (656, 4.057436),\n",
       " (657, 3.978862),\n",
       " (658, 3.865817),\n",
       " (659, 3.82858),\n",
       " (660, 3.718386),\n",
       " (661, 3.645758)]"
      ]
     },
     "execution_count": 150,
     "metadata": {},
     "output_type": "execute_result"
    }
   ],
   "source": [
    "[a for a in [(i,a) for i,a in enumerate([a['d'] for a in data1])] if a[1]<5]"
   ]
  },
  {
   "cell_type": "code",
   "execution_count": 155,
   "metadata": {
    "collapsed": false
   },
   "outputs": [
    {
     "data": {
      "text/plain": [
       "[[1.0, 1.0, 1.0],\n",
       " [1.0, 1.0, 1.0],\n",
       " [1.0, 1.0, 1.0],\n",
       " [1.0, 1.0, 1.0],\n",
       " [1.0, 1.0, 1.0],\n",
       " [1.0, 1.0, 1.0],\n",
       " [1.0, 1.0, 1.0],\n",
       " [1.0, 1.0, 1.0],\n",
       " [1.0, 1.0, 1.0],\n",
       " [1.0, 1.0, 1.0],\n",
       " [1.0, 1.0, 1.0],\n",
       " [1.0, 1.0, 1.0],\n",
       " [1.0, 1.0, 0.0],\n",
       " [1.0, 1.0, 0.0],\n",
       " [1.0, 1.0, 0.0],\n",
       " [1.0, 1.0, 0.0],\n",
       " [1.0, 1.0, 0.0],\n",
       " [1.0, 1.0, 0.0],\n",
       " [1.0, 1.0, 0.0],\n",
       " [1.0, 1.0, 0.0],\n",
       " [1.0, 1.0, 0.0],\n",
       " [1.0, 1.0, 0.0],\n",
       " [1.0, 1.0, 0.0],\n",
       " [1.0, 1.0, 0.0],\n",
       " [1.0, 1.0, 0.0],\n",
       " [1.0, 1.0, 0.0],\n",
       " [1.0, 1.0, 0.0],\n",
       " [1.0, 1.0, 0.0],\n",
       " [1.0, 1.0, 0.0],\n",
       " [1.0, 1.0, 0.0],\n",
       " [1.0, 1.0, 0.0],\n",
       " [1.0, 1.0, 0.0],\n",
       " [1.0, 1.0, 0.0],\n",
       " [1.0, 1.0, 0.0],\n",
       " [1.0, 1.0, 0.0],\n",
       " [1.0, 1.0, 0.0],\n",
       " [1.0, 1.0, 0.0],\n",
       " [1.0, 1.0, 0.0],\n",
       " [1.0, 1.0, 0.0],\n",
       " [1.0, 1.0, 0.0],\n",
       " [1.0, 1.0, 0.0],\n",
       " [1.0, 1.0, 0.0],\n",
       " [1.0, 1.0, 0.0],\n",
       " [1.0, 1.0, 0.0],\n",
       " [1.0, 1.0, 0.0],\n",
       " [1.0, 1.0, 0.0],\n",
       " [1.0, 1.0, 0.0],\n",
       " [1.0, 1.0, 0.0],\n",
       " [1.0, 1.0, 0.0],\n",
       " []]"
      ]
     },
     "execution_count": 155,
     "metadata": {},
     "output_type": "execute_result"
    }
   ],
   "source": [
    " data3[-50:]"
   ]
  },
  {
   "cell_type": "code",
   "execution_count": null,
   "metadata": {
    "collapsed": true
   },
   "outputs": [],
   "source": []
  }
 ],
 "metadata": {
  "kernelspec": {
   "display_name": "cars-v2",
   "language": "python",
   "name": "carnd-term1"
  },
  "language_info": {
   "codemirror_mode": {
    "name": "ipython",
    "version": 3
   },
   "file_extension": ".py",
   "mimetype": "text/x-python",
   "name": "python",
   "nbconvert_exporter": "python",
   "pygments_lexer": "ipython3",
   "version": "3.5.2"
  }
 },
 "nbformat": 4,
 "nbformat_minor": 0
}
