{
 "cells": [
  {
   "cell_type": "code",
   "execution_count": 1,
   "metadata": {
    "collapsed": true
   },
   "outputs": [],
   "source": [
    "from geo import getXY, dist\n",
    "import numpy as np"
   ]
  },
  {
   "cell_type": "code",
   "execution_count": 2,
   "metadata": {
    "collapsed": false
   },
   "outputs": [],
   "source": [
    "with open('../xcode/Debug/log.txt','r') as f:\n",
    "    data=f.read()\n",
    "    \n",
    "import json\n",
    "data1=[json.loads(a) for a in data.split('\\n')[:3000] ]\n",
    "data1=[a[1] for a in data1 if a[0]=='telemetry']"
   ]
  },
  {
   "cell_type": "code",
   "execution_count": 3,
   "metadata": {
    "collapsed": false
   },
   "outputs": [],
   "source": [
    "gopa=[]\n",
    "\n",
    "for tmp in data1:\n",
    "    x,y,car_yaw,s,d=tmp['x'],tmp['y'],tmp['yaw'],tmp['s'],tmp['d']\n",
    "    tmp=getXY(s,d)\n",
    "    dst=dist((x,y),tmp)\n",
    "    gopa.append(dst)\n",
    "    \n",
    "gopa=np.array(gopa)"
   ]
  },
  {
   "cell_type": "code",
   "execution_count": null,
   "metadata": {
    "collapsed": false
   },
   "outputs": [],
   "source": [
    "tmp=data1[0]\n",
    "\n",
    "x,y,car_yaw,s,d=tmp['x'],tmp['y'],tmp['yaw'],tmp['s'],tmp['d']\n",
    "tmp=getXY(s,d)\n",
    "dst=dist((x,y),tmp)\n"
   ]
  },
  {
   "cell_type": "code",
   "execution_count": 4,
   "metadata": {
    "collapsed": false
   },
   "outputs": [
    {
     "data": {
      "text/plain": [
       "1.3460191526244225"
      ]
     },
     "execution_count": 4,
     "metadata": {},
     "output_type": "execute_result"
    }
   ],
   "source": [
    "max(gopa)"
   ]
  },
  {
   "cell_type": "code",
   "execution_count": 5,
   "metadata": {
    "collapsed": false
   },
   "outputs": [
    {
     "data": {
      "image/png": "[encoded data removed]",
      "text/plain": [
       "<matplotlib.figure.Figure at 0x1149c6d68>"
      ]
     },
     "metadata": {},
     "output_type": "display_data"
    }
   ],
   "source": [
    "%matplotlib inline\n",
    "import matplotlib.pyplot as plt\n",
    "plt.hist(gopa)\n",
    "plt.show()"
   ]
  },
  {
   "cell_type": "code",
   "execution_count": 25,
   "metadata": {
    "collapsed": false
   },
   "outputs": [
    {
     "data": {
      "text/plain": [
       "(3706.9029954919042, 1673.2346709670564)"
      ]
     },
     "execution_count": 25,
     "metadata": {},
     "output_type": "execute_result"
    }
   ],
   "source": [
    "getXY(2120.937, 1544.088)"
   ]
  },
  {
   "cell_type": "code",
   "execution_count": 33,
   "metadata": {
    "collapsed": false
   },
   "outputs": [
    {
     "data": {
      "text/plain": [
       "{'d': 6.164833,\n",
       " 'end_path_d': 0,\n",
       " 'end_path_s': 0,\n",
       " 'previous_path_x': [],\n",
       " 'previous_path_y': [],\n",
       " 's': 124.8336,\n",
       " 'sensor_fusion': [[0,\n",
       "   1025.794,\n",
       "   1155.962,\n",
       "   38.50869,\n",
       "   15.94469,\n",
       "   243.9328,\n",
       "   2.000018],\n",
       "  [1, 775.8, 1425.2, 0, 0, 6719.219, -280.1494],\n",
       "  [2, 775.8, 1429, 0, 0, 6716.599, -282.9019],\n",
       "  [3, 775.8, 1432.9, 0, 0, 6713.911, -285.7268],\n",
       "  [4, 775.8, 1436.3, 0, 0, 6711.566, -288.1896],\n",
       "  [5, 775.8, 1441.7, 0, 0, 6661.772, -291.7797],\n",
       "  [6, 762.1, 1421.6, 0, 0, 6711.778, -268.0964],\n",
       "  [7, 762.1, 1425.2, 0, 0, 6709.296, -270.7039],\n",
       "  [8, 762.1, 1429, 0, 0, 6663.543, -273.1828],\n",
       "  [9, 762.1, 1432.9, 0, 0, 6660.444, -275.5511],\n",
       "  [10, 762.1, 1436.3, 0, 0, 6657.743, -277.6157],\n",
       "  [11, 762.1, 1441.7, 0, 0, 6653.453, -280.8947]],\n",
       " 'speed': 0,\n",
       " 'x': 909.48,\n",
       " 'y': 1128.67,\n",
       " 'yaw': 0}"
      ]
     },
     "execution_count": 33,
     "metadata": {},
     "output_type": "execute_result"
    }
   ],
   "source": [
    "data1[0]"
   ]
  },
  {
   "cell_type": "code",
   "execution_count": null,
   "metadata": {
    "collapsed": true
   },
   "outputs": [],
   "source": []
  }
 ],
 "metadata": {
  "kernelspec": {
   "display_name": "cars-v2",
   "language": "python",
   "name": "carnd-term1"
  },
  "language_info": {
   "codemirror_mode": {
    "name": "ipython",
    "version": 3
   },
   "file_extension": ".py",
   "mimetype": "text/x-python",
   "name": "python",
   "nbconvert_exporter": "python",
   "pygments_lexer": "ipython3",
   "version": "3.5.2"
  }
 },
 "nbformat": 4,
 "nbformat_minor": 0
}
