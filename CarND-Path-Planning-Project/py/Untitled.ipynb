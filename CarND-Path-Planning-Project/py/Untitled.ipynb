{
 "cells": [
  {
   "cell_type": "code",
   "execution_count": 223,
   "metadata": {
    "collapsed": true
   },
   "outputs": [],
   "source": [
    "with open('../xcode/Debug/log.txt','r') as f:\n",
    "    data=f.read()"
   ]
  },
  {
   "cell_type": "code",
   "execution_count": 224,
   "metadata": {
    "collapsed": false
   },
   "outputs": [],
   "source": [
    "import json\n",
    "data1=[json.loads(a) for a in data.split('\\n')[:-1] ]\n",
    "data1=[a[1] for a in data1 if a[0]=='telemetry']"
   ]
  },
  {
   "cell_type": "code",
   "execution_count": 225,
   "metadata": {
    "collapsed": false
   },
   "outputs": [
    {
     "data": {
      "image/png": "[encoded data removed]",
      "text/plain": [
       "<matplotlib.figure.Figure at 0x110ea0da0>"
      ]
     },
     "metadata": {},
     "output_type": "display_data"
    }
   ],
   "source": [
    "%matplotlib inline\n",
    "import matplotlib.pyplot as plt\n",
    "\n",
    "tmp=data1[-200]\n",
    "plt.scatter([a[-2] for a in tmp['sensor_fusion']], [a[-1] for a in tmp['sensor_fusion']])\n",
    "plt.scatter([tmp['s']],[tmp['d']],color='red')\n",
    "plt.show()"
   ]
  },
  {
   "cell_type": "code",
   "execution_count": 50,
   "metadata": {
    "collapsed": false
   },
   "outputs": [],
   "source": [
    "import numpy as np\n",
    "ar=np.array([[float(a[-2]),float(a[-1])] for a in tmp['sensor_fusion']])\n",
    "s=tmp['s']\n",
    "d=tmp['d']\n",
    "x=(s,d)"
   ]
  },
  {
   "cell_type": "code",
   "execution_count": 51,
   "metadata": {
    "collapsed": false
   },
   "outputs": [],
   "source": [
    "def dist(x,y):\n",
    "    return ((x[0]-y[0])**2+(x[1]-y[1])**2)**(0.5)"
   ]
  },
  {
   "cell_type": "code",
   "execution_count": 52,
   "metadata": {
    "collapsed": false
   },
   "outputs": [],
   "source": [
    "d=[dist(a,x) for a in ar]"
   ]
  },
  {
   "cell_type": "code",
   "execution_count": 53,
   "metadata": {
    "collapsed": false
   },
   "outputs": [
    {
     "data": {
      "text/plain": [
       "6"
      ]
     },
     "execution_count": 53,
     "metadata": {},
     "output_type": "execute_result"
    }
   ],
   "source": [
    "np.argmin(d)"
   ]
  },
  {
   "cell_type": "code",
   "execution_count": 54,
   "metadata": {
    "collapsed": false
   },
   "outputs": [
    {
     "data": {
      "text/plain": [
       "(array([ 513.2354  ,    2.065666]), (663.8386, 5.826378))"
      ]
     },
     "execution_count": 54,
     "metadata": {},
     "output_type": "execute_result"
    }
   ],
   "source": [
    "ar[7], x"
   ]
  },
  {
   "cell_type": "code",
   "execution_count": 57,
   "metadata": {
    "collapsed": false
   },
   "outputs": [
    {
     "name": "stdout",
     "output_type": "stream",
     "text": [
      "{\n",
      "{ 0,1313.218,1189.599,18.8987,-1.458298,537.9053,1.741095 },\n",
      "{ 1,1507.962,1167.047,17.38324,-1.779696,733.9502,2.142513 },\n",
      "{ 2,1340.359,1182.39,20.77376,-2.663067,565.5621,5.902644 },\n",
      "{ 3,1422.491,1177.768,14.66686,-2.047278,647.8659,1.880554 },\n",
      "{ 4,1347.012,1177.614,19.93764,-2.125543,572.6232,10.05186 },\n",
      "{ 5,1488.332,1165.284,17.28355,-2.167764,714.7482,5.981956 },\n",
      "{ 6,1441.997,1171.338,21.76113,-2.748472,668.0113,5.786294 },\n",
      "{ 7,1288.707,1190.805,17.50879,-0.822025,513.2354,2.065666 },\n",
      "{ 8,1481.736,1162.082,17.80452,-2.259625,708.609,9.990233 },\n",
      "{ 9,1286.259,1182.983,18.8864,-0.8778437,511.1425,9.989671 },\n",
      "{ 10,1402.042,1180.428,15.71919,-1.820126,627.2449,1.905435 },\n",
      "{ 11,1242.449,1192.848,18.53493,-0.105787,466.9076,1.726149 },\n",
      "}\n"
     ]
    }
   ],
   "source": [
    "print ('{')\n",
    "for a in tmp['sensor_fusion']:\n",
    "    print ('{', ','.join([str(b) for b in a]), '},')\n",
    "print ('}')"
   ]
  },
  {
   "cell_type": "code",
   "execution_count": 59,
   "metadata": {
    "collapsed": false
   },
   "outputs": [
    {
     "data": {
      "text/plain": [
       "(663.8386, 5.826378)"
      ]
     },
     "execution_count": 59,
     "metadata": {},
     "output_type": "execute_result"
    }
   ],
   "source": [
    "tmp['s'], tmp['d']"
   ]
  },
  {
   "cell_type": "code",
   "execution_count": 45,
   "metadata": {
    "collapsed": false
   },
   "outputs": [
    {
     "data": {
      "text/plain": [
       "{'d': 6.023216,\n",
       " 'end_path_d': 6.010732,\n",
       " 'end_path_s': 5582.075,\n",
       " 'previous_path_x': [159.7076,\n",
       "  159.6891,\n",
       "  159.6706,\n",
       "  159.6521,\n",
       "  159.6336,\n",
       "  159.6151,\n",
       "  159.5966,\n",
       "  159.578,\n",
       "  159.5593,\n",
       "  159.5406,\n",
       "  159.5218,\n",
       "  159.503,\n",
       "  159.4841],\n",
       " 'previous_path_y': [2259.126,\n",
       "  2258.686,\n",
       "  2258.246,\n",
       "  2257.806,\n",
       "  2257.366,\n",
       "  2256.926,\n",
       "  2256.486,\n",
       "  2256.047,\n",
       "  2255.607,\n",
       "  2255.168,\n",
       "  2254.728,\n",
       "  2254.288,\n",
       "  2253.849],\n",
       " 's': 5576.354,\n",
       " 'sensor_fusion': [[0,\n",
       "   179.8204,\n",
       "   2416.613,\n",
       "   -4.834095,\n",
       "   -20.09481,\n",
       "   5418.833,\n",
       "   6.135165],\n",
       "  [1, 159.698, 2137.648, 0.1768622, -16.12407, 5698.043, 2.117703],\n",
       "  [2, 161.1684, 2084.8, 0.9614065, -16.28148, 5750.658, 1.988172],\n",
       "  [3, 162.095, 2223.569, -0.9347798, -17.63589, 5612.225, 1.903185],\n",
       "  [4, 166.7954, 2311.137, -1.380448, -15.83895, 5524.602, 2.192861],\n",
       "  [5, 156.2329, 2185.881, -0.4008369, -15.59695, 5649.955, 6.107178],\n",
       "  [6, 151.7873, 2155.222, -0.191997, -14.85494, 5680.684, 10.04574],\n",
       "  [7, 159.195, 2255.121, -0.8747857, -21.95857, 5580.818, 6.356057],\n",
       "  [8, 164.7214, 2360.792, -2.961521, -20.78453, 5475.895, 10.21933],\n",
       "  [9, 156.6934, 2099.173, 0.5030755, -17.65021, 5736.435, 6.051121],\n",
       "  [10, 169.7612, 2368.219, -3.246406, -21.47906, 5467.8, 6.342945],\n",
       "  [11, 173.1588, 2405.537, -4.743057, -20.74067, 5431.13, 10.11313]],\n",
       " 'speed': 49.27679,\n",
       " 'x': 159.7261,\n",
       " 'y': 2259.566,\n",
       " 'yaw': 267.5952}"
      ]
     },
     "execution_count": 45,
     "metadata": {},
     "output_type": "execute_result"
    }
   ],
   "source": [
    "tmp"
   ]
  },
  {
   "cell_type": "code",
   "execution_count": 78,
   "metadata": {
    "collapsed": false
   },
   "outputs": [],
   "source": [
    "import pandas as pd\n",
    "\n",
    "highway=pd.read_csv('../data/highway_map.csv',delimiter=' ', names=['x','y','s','dx','dy'])"
   ]
  },
  {
   "cell_type": "code",
   "execution_count": 118,
   "metadata": {
    "collapsed": false
   },
   "outputs": [],
   "source": [
    "def ClosestWaypoint(x,y, highway):\n",
    "    \"\"\"\n",
    "    Define closest point number\n",
    "    \"\"\"\n",
    "    d=[dist((x,y),(x1,y1)) for x1,y1 in highway[['x','y']].values]\n",
    "    return int(np.argmin(d))"
   ]
  },
  {
   "cell_type": "code",
   "execution_count": 200,
   "metadata": {
    "collapsed": false
   },
   "outputs": [],
   "source": [
    "from math import atan2, pi, fabs, sin, cos\n",
    "\n",
    "def  NextWaypoint( x,  y,  theta, highway ):\n",
    "    n = ClosestWaypoint(x, y, highway)\n",
    "    closestWaypoint = highway[['x','y']].values[n]\n",
    "    heading = atan2( (closestWaypoint[1] - y), (closestWaypoint[0] - x) )\n",
    "    angle = fabs(theta - heading)\n",
    "    if angle > pi / 4:   n+=1\n",
    "    return n"
   ]
  },
  {
   "cell_type": "code",
   "execution_count": 201,
   "metadata": {
    "collapsed": false
   },
   "outputs": [],
   "source": [
    "def distance(x,y,x1,y1): return dist((x,y),(x1,y1))\n",
    "\n",
    "def get_frenet(x,y, theta, highway):\n",
    "    next_wp = NextWaypoint(x, y, theta, highway)\n",
    "    \n",
    "    prev_wp =  next_wp - 1 if next_wp>0 else len(highway)-1\n",
    "    \n",
    "    maps_x=highway['x'].values\n",
    "    maps_y=highway['y'].values\n",
    "    \n",
    "    \n",
    "    n_x = maps_x[next_wp] - maps_x[prev_wp]\n",
    "    n_y = maps_y[next_wp] - maps_y[prev_wp]\n",
    "    x_x = x - maps_x[prev_wp]\n",
    "    x_y = y - maps_y[prev_wp]\n",
    "    \n",
    "    #find the projection of x onto n\n",
    "    proj_norm = (x_x * n_x + x_y * n_y) / (n_x * n_x + n_y * n_y)\n",
    "    proj_x = proj_norm * n_x\n",
    "    proj_y = proj_norm * n_y\n",
    "    \n",
    "    frenet_d = distance(x_x, x_y, proj_x, proj_y)\n",
    "    \n",
    "    #see if d value is positive or negative by comparing it to a center point\n",
    "    \n",
    "    center_x = 1000 - maps_x[prev_wp]\n",
    "    center_y = 2000 - maps_y[prev_wp]\n",
    "    centerToPos = distance(center_x, center_y, x_x, x_y)\n",
    "    centerToRef = distance(center_x, center_y, proj_x, proj_y)\n",
    "    \n",
    "    if centerToPos <= centerToRef:\n",
    "        frenet_d *= -1\n",
    "    \n",
    "    #calculate s value\n",
    "    frenet_s = 0\n",
    "    for i in range(prev_wp):\n",
    "        frenet_s += distance(maps_x[i], maps_y[i], maps_x[i + 1], maps_y[i + 1])\n",
    "    \n",
    "    frenet_s += distance(0, 0, proj_x, proj_y)\n",
    "    \n",
    "    return (frenet_s, frenet_d)"
   ]
  },
  {
   "cell_type": "code",
   "execution_count": 202,
   "metadata": {
    "collapsed": true
   },
   "outputs": [],
   "source": [
    "def deg2rad( x): return x * pi / 180 \n",
    "def rad2deg( x):  return x * 180 / pi\n"
   ]
  },
  {
   "cell_type": "code",
   "execution_count": 203,
   "metadata": {
    "collapsed": false
   },
   "outputs": [],
   "source": [
    "tmp=data1[867]\n",
    "x,y,car_yaw,s,d=tmp['x'],tmp['y'],tmp['yaw'],tmp['s'],tmp['d']\n",
    "angle=deg2rad(car_yaw)"
   ]
  },
  {
   "cell_type": "code",
   "execution_count": 204,
   "metadata": {
    "collapsed": false
   },
   "outputs": [
    {
     "name": "stdout",
     "output_type": "stream",
     "text": [
      "(710.81247121487991, 10.052965766821014)\n",
      "674.1476 10.02558\n"
     ]
    }
   ],
   "source": [
    "print (get_frenet(x,y,angle, highway))\n",
    "print (s,d)"
   ]
  },
  {
   "cell_type": "code",
   "execution_count": 205,
   "metadata": {
    "collapsed": true
   },
   "outputs": [],
   "source": [
    "from tqdm import tqdm_notebook, tqdm"
   ]
  },
  {
   "cell_type": "code",
   "execution_count": 179,
   "metadata": {
    "collapsed": false
   },
   "outputs": [
    {
     "name": "stderr",
     "output_type": "stream",
     "text": [
      "100%|██████████| 3890/3890 [00:06<00:00, 590.58it/s]\n"
     ]
    }
   ],
   "source": [
    "gopa=[]\n",
    "\n",
    "for tmp in tqdm(data1):\n",
    "    x,y,car_yaw,s,d=tmp['x'],tmp['y'],tmp['yaw'],tmp['s'],tmp['d']\n",
    "    angle=deg2rad(car_yaw)\n",
    "    prediction=get_frenet(x,y,angle, highway)\n",
    "    d=dist((s,d),prediction)\n",
    "    gopa.append(d)"
   ]
  },
  {
   "cell_type": "code",
   "execution_count": 192,
   "metadata": {
    "collapsed": false
   },
   "outputs": [
    {
     "data": {
      "text/plain": [
       "(831, 3890)"
      ]
     },
     "execution_count": 192,
     "metadata": {},
     "output_type": "execute_result"
    }
   ],
   "source": [
    "len(np.where(np.array(gopa)>0.1)[0]), len(gopa)"
   ]
  },
  {
   "cell_type": "code",
   "execution_count": 196,
   "metadata": {
    "collapsed": false
   },
   "outputs": [],
   "source": [
    "def   getXY( s,  d, highway):\n",
    "    prev_wp = -1\n",
    "    \n",
    "    maps_s,maps_x,maps_y=highway['s'].values, highway['x'].values,highway['y'].values\n",
    "    \n",
    "    while (s > maps_s[prev_wp + 1] and (prev_wp < len(maps_s)-1 )):\n",
    "        prev_wp+=1\n",
    "    \n",
    "    wp2 = (prev_wp + 1) % len(highway)\n",
    "    \n",
    "    heading = atan2((maps_y[wp2] - maps_y[prev_wp]), (maps_x[wp2] - maps_x[prev_wp]))\n",
    "    # the x,y,s along the segment\n",
    "    seg_s = (s - maps_s[prev_wp])\n",
    "    \n",
    "    seg_x = maps_x[prev_wp] + seg_s * cos(heading)\n",
    "    seg_y = maps_y[prev_wp] + seg_s * sin(heading)\n",
    "    \n",
    "    perp_heading = heading - pi / 2\n",
    "    \n",
    "    x = seg_x + d * cos(perp_heading)\n",
    "    y = seg_y + d * sin(perp_heading)\n",
    "    \n",
    "    return (x, y)"
   ]
  },
  {
   "cell_type": "code",
   "execution_count": 226,
   "metadata": {
    "collapsed": false
   },
   "outputs": [],
   "source": [
    "gopa=[]\n",
    "\n",
    "for tmp in data1:\n",
    "    x,y,car_yaw,s,d=tmp['x'],tmp['y'],tmp['yaw'],tmp['s'],tmp['d']\n",
    "    tmp=getXY(s,d,highway)\n",
    "    d=dist((x,y),tmp)\n",
    "    gopa.append(d)\n",
    "    \n",
    "gopa=np.array(gopa)"
   ]
  },
  {
   "cell_type": "code",
   "execution_count": 227,
   "metadata": {
    "collapsed": false
   },
   "outputs": [
    {
     "data": {
      "text/plain": [
       "(14, 4676)"
      ]
     },
     "execution_count": 227,
     "metadata": {},
     "output_type": "execute_result"
    }
   ],
   "source": [
    "len(np.where(gopa>0.01)[0]), len(gopa)"
   ]
  },
  {
   "cell_type": "raw",
   "metadata": {},
   "source": [
    "double distance(double x1, double y1, double x2, double y2)\n",
    "{\n",
    "    return sqrt((x2 - x1) * (x2 - x1) + (y2 - y1) * (y2 - y1))\n",
    "}\n",
    "\n",
    "int ClosestWaypoint(double x, double y, const vector<double> &maps_x, const vector<double> &maps_y)\n",
    "{\n",
    "    \n",
    "    double closestLen = 100000 //large number\n",
    "    int closestWaypoint = 0\n",
    "    \n",
    "    for (int i = 0 i < maps_x.size() i++)\n",
    "    {\n",
    "        double map_x = maps_x[i]\n",
    "        double map_y = maps_y[i]\n",
    "        double dist = distance(x, y, map_x, map_y)\n",
    "        if (dist < closestLen)\n",
    "        {\n",
    "            closestLen = dist\n",
    "            closestWaypoint = i\n",
    "        }\n",
    "        \n",
    "    }\n",
    "    \n",
    "    return closestWaypoint\n",
    "    \n",
    "}\n",
    "\n",
    "int NextWaypoint(double x, double y, double theta, const vector<double> &maps_x, const vector<double> &maps_y)\n",
    "{\n",
    "    \n",
    "    int closestWaypoint = ClosestWaypoint(x, y, maps_x, maps_y)\n",
    "    \n",
    "    double map_x = maps_x[closestWaypoint]\n",
    "    double map_y = maps_y[closestWaypoint]\n",
    "    \n",
    "    double heading = atan2( (map_y - y), (map_x - x) )\n",
    "    \n",
    "    //or abs? todo\n",
    "    double angle = fabs(theta - heading)\n",
    "    \n",
    "    if (angle > pi() / 4)\n",
    "    {\n",
    "        closestWaypoint++\n",
    "    }\n",
    "    \n",
    "    return closestWaypoint\n",
    "    \n",
    "}\n",
    "\n",
    "// Transform from Cartesian x,y coordinates to Frenet s,d coordinates\n",
    "vector<double> getFrenet(double x, double y, double theta, const vector<double> &maps_x, const vector<double> &maps_y)\n",
    "{\n",
    "    int next_wp = NextWaypoint(x, y, theta, maps_x, maps_y)\n",
    "    \n",
    "    \n",
    "    int prev_wp\n",
    "    prev_wp = next_wp - 1\n",
    "    if (next_wp == 0)\n",
    "    {\n",
    "        prev_wp  = maps_x.size() - 1\n",
    "    }\n",
    "    \n",
    "    double n_x = maps_x[next_wp] - maps_x[prev_wp]\n",
    "    double n_y = maps_y[next_wp] - maps_y[prev_wp]\n",
    "    double x_x = x - maps_x[prev_wp]\n",
    "    double x_y = y - maps_y[prev_wp]\n",
    "    \n",
    "    // find the projection of x onto n\n",
    "    double proj_norm = (x_x * n_x + x_y * n_y) / (n_x * n_x + n_y * n_y)\n",
    "    double proj_x = proj_norm * n_x\n",
    "    double proj_y = proj_norm * n_y\n",
    "    \n",
    "    double frenet_d = distance(x_x, x_y, proj_x, proj_y)\n",
    "    \n",
    "    //see if d value is positive or negative by comparing it to a center point\n",
    "    \n",
    "    double center_x = 1000 - maps_x[prev_wp]\n",
    "    double center_y = 2000 - maps_y[prev_wp]\n",
    "    double centerToPos = distance(center_x, center_y, x_x, x_y)\n",
    "    double centerToRef = distance(center_x, center_y, proj_x, proj_y)\n",
    "    \n",
    "    if (centerToPos <= centerToRef)\n",
    "    {\n",
    "        frenet_d *= -1\n",
    "    }\n",
    "    \n",
    "    // calculate s value\n",
    "    double frenet_s = 0\n",
    "    for (int i = 0 i < prev_wp i++)\n",
    "    {\n",
    "        frenet_s += distance(maps_x[i], maps_y[i], maps_x[i + 1], maps_y[i + 1])\n",
    "    }\n",
    "    \n",
    "    frenet_s += distance(0, 0, proj_x, proj_y)\n",
    "    \n",
    "    return {frenet_s, frenet_d}\n",
    "    \n",
    "}\n",
    "\n",
    "// Transform from Frenet s,d coordinates to Cartesian x,y\n",
    "vector<double> getXY(double s, double d, const vector<double> &maps_s, const vector<double> &maps_x, const vector<double> &maps_y)\n",
    "{\n",
    "    int prev_wp = -1\n",
    "    \n",
    "    while (s > maps_s[prev_wp + 1] && (prev_wp < (int)(maps_s.size() - 1) ))\n",
    "    {\n",
    "        prev_wp++\n",
    "    }\n",
    "    \n",
    "    int wp2 = (prev_wp + 1) % maps_x.size()\n",
    "    \n",
    "    double heading = atan2((maps_y[wp2] - maps_y[prev_wp]), (maps_x[wp2] - maps_x[prev_wp]))\n",
    "    // the x,y,s along the segment\n",
    "    double seg_s = (s - maps_s[prev_wp])\n",
    "    \n",
    "    double seg_x = maps_x[prev_wp] + seg_s * cos(heading)\n",
    "    double seg_y = maps_y[prev_wp] + seg_s * sin(heading)\n",
    "    \n",
    "    double perp_heading = heading - pi() / 2\n",
    "    \n",
    "    double x = seg_x + d * cos(perp_heading)\n",
    "    double y = seg_y + d * sin(perp_heading)\n",
    "    \n",
    "    return {x, y}\n",
    "    \n",
    "}"
   ]
  },
  {
   "cell_type": "code",
   "execution_count": 222,
   "metadata": {
    "collapsed": false
   },
   "outputs": [
    {
     "data": {
      "text/plain": [
       "(3712.9368902713099, 1697.6271007752077)"
      ]
     },
     "execution_count": 222,
     "metadata": {},
     "output_type": "execute_result"
    }
   ],
   "source": [
    "getXY(2120.937, 1544.088, highway)"
   ]
  },
  {
   "cell_type": "code",
   "execution_count": 230,
   "metadata": {
    "collapsed": false
   },
   "outputs": [
    {
     "data": {
      "text/plain": [
       "([], [])"
      ]
     },
     "execution_count": 230,
     "metadata": {},
     "output_type": "execute_result"
    }
   ],
   "source": [
    "data1[0]['previous_path_x'], data1[0]['previous_path_y']"
   ]
  },
  {
   "cell_type": "code",
   "execution_count": 232,
   "metadata": {
    "collapsed": false
   },
   "outputs": [
    {
     "data": {
      "text/plain": [
       "{'d': 6.164833,\n",
       " 'end_path_d': 0,\n",
       " 'end_path_s': 0,\n",
       " 'previous_path_x': [],\n",
       " 'previous_path_y': [],\n",
       " 's': 124.8336,\n",
       " 'sensor_fusion': [[0,\n",
       "   841.7191,\n",
       "   1128.829,\n",
       "   22.6939,\n",
       "   0.1092576,\n",
       "   57.12968,\n",
       "   6.083472],\n",
       "  [1, 775.8, 1425.2, 0, 0, 6719.219, -280.1494],\n",
       "  [2, 775.8, 1429, 0, 0, 6716.599, -282.9019],\n",
       "  [3, 775.8, 1432.9, 0, 0, 6713.911, -285.7268],\n",
       "  [4, 775.8, 1436.3, 0, 0, 6711.566, -288.1896],\n",
       "  [5, 775.8, 1441.7, 0, 0, 6661.772, -291.7797],\n",
       "  [6, 762.1, 1421.6, 0, 0, 6711.778, -268.0964],\n",
       "  [7, 762.1, 1425.2, 0, 0, 6709.296, -270.7039],\n",
       "  [8, 762.1, 1429, 0, 0, 6663.543, -273.1828],\n",
       "  [9, 762.1, 1432.9, 0, 0, 6660.444, -275.5511],\n",
       "  [10, 762.1, 1436.3, 0, 0, 6657.743, -277.6157],\n",
       "  [11, 762.1, 1441.7, 0, 0, 6653.453, -280.8947]],\n",
       " 'speed': 0,\n",
       " 'x': 909.48,\n",
       " 'y': 1128.67,\n",
       " 'yaw': 0}"
      ]
     },
     "execution_count": 232,
     "metadata": {},
     "output_type": "execute_result"
    }
   ],
   "source": [
    "data1[0]"
   ]
  },
  {
   "cell_type": "code",
   "execution_count": null,
   "metadata": {
    "collapsed": true
   },
   "outputs": [],
   "source": []
  }
 ],
 "metadata": {
  "kernelspec": {
   "display_name": "Python 3",
   "language": "python",
   "name": "python3"
  },
  "language_info": {
   "codemirror_mode": {
    "name": "ipython",
    "version": 3
   },
   "file_extension": ".py",
   "mimetype": "text/x-python",
   "name": "python",
   "nbconvert_exporter": "python",
   "pygments_lexer": "ipython3",
   "version": "3.6.0"
  }
 },
 "nbformat": 4,
 "nbformat_minor": 0
}
