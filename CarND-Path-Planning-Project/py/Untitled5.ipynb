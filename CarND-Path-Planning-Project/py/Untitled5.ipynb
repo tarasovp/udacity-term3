{
 "cells": [
  {
   "cell_type": "code",
   "execution_count": 1,
   "metadata": {
    "collapsed": false
   },
   "outputs": [],
   "source": [
    "with open('../py/log.txt','r') as f:\n",
    "    data=f.read()\n",
    "    \n",
    "import json\n",
    "data1=[json.loads(a) for a in data.split('\\n')[:-1] ]\n",
    "\n",
    "from test import *"
   ]
  },
  {
   "cell_type": "code",
   "execution_count": 2,
   "metadata": {
    "collapsed": false
   },
   "outputs": [
    {
     "name": "stdout",
     "output_type": "stream",
     "text": [
      "995\n"
     ]
    }
   ],
   "source": [
    "\n",
    "for i, tmp in enumerate(data1):\n",
    "    s,d=tmp['end_path_s'], tmp['end_path_d']\n",
    "    if fabs(tmp['d']%4-2)<0.1:\n",
    "        line=round((tmp['d']-2)/4)\n",
    "        prev_x, prev_y, end_path_s, end_path_d, car_speed, ref_yaw, other_cars=get_variables(tmp)\n",
    "        best_line=get_best_line(other_cars, line, end_path_s, car_speed)\n",
    "        if best_line!=line:\n",
    "            print (i)\n",
    "            break"
   ]
  },
  {
   "cell_type": "code",
   "execution_count": 15,
   "metadata": {
    "collapsed": false
   },
   "outputs": [
    {
     "data": {
      "image/png": "[encoded data removed]",
      "text/plain": [
       "<matplotlib.figure.Figure at 0x1210c6d30>"
      ]
     },
     "metadata": {},
     "output_type": "display_data"
    }
   ],
   "source": [
    "%matplotlib inline \n",
    "import matplotlib.pyplot as plt \n",
    "from matplotlib.pyplot import cm \n",
    "\n",
    "\n",
    "\n",
    "\n",
    "tmp=data1[995]\n",
    "prev_x, prev_y, end_path_s, end_path_d, car_speed, ref_yaw, other_cars=get_variables(tmp)\n",
    "axes = plt.gca()\n",
    "axes.set_ylim([0,4*3])\n",
    "\n",
    "line=round((tmp['d']-2)/4)\n",
    "best_line=get_best_line(other_cars, line, end_path_s, car_speed)\n",
    "\n",
    "plt.title('Line=%d Best_line=%d' %(line,best_line))\n",
    "\n",
    "tmp2=[[a[-2],a[-1],sqrt(a[-3]**2+a[-4]**2)] for a in tmp['sensor_fusion'] if a[-1]>=0]\n",
    "\n",
    "color=cm.rainbow(np.linspace(0,1,len(tmp2)+1))\n",
    "\n",
    "\n",
    "for i,a in enumerate(tmp2):\n",
    "    plt.scatter([a[0]],[a[1]],s=150, color=color[i])\n",
    "    \n",
    "plt.scatter([tmp['s']],[tmp['d']],color=color[len(tmp2)],s=600)\n",
    "plt.show()"
   ]
  },
  {
   "cell_type": "code",
   "execution_count": 4,
   "metadata": {
    "collapsed": false
   },
   "outputs": [
    {
     "ename": "NameError",
     "evalue": "name 'max_jerk_cost' is not defined",
     "output_type": "error",
     "traceback": [
      "\u001b[0;31m---------------------------------------------------------------------------\u001b[0m",
      "\u001b[0;31mNameError\u001b[0m                                 Traceback (most recent call last)",
      "\u001b[0;32m<ipython-input-4-2f605210f370>\u001b[0m in \u001b[0;36m<module>\u001b[0;34m()\u001b[0m\n\u001b[1;32m     58\u001b[0m     \u001b[0;31m#(d_diff_cost,       1),\u001b[0m\u001b[0;34m\u001b[0m\u001b[0;34m\u001b[0m\u001b[0m\n\u001b[1;32m     59\u001b[0m     \u001b[0;34m(\u001b[0m\u001b[0mefficiency_cost\u001b[0m\u001b[0;34m,\u001b[0m   \u001b[0;36m1\u001b[0m\u001b[0;34m)\u001b[0m\u001b[0;34m,\u001b[0m\u001b[0;34m\u001b[0m\u001b[0m\n\u001b[0;32m---> 60\u001b[0;31m     \u001b[0;34m(\u001b[0m\u001b[0mmax_jerk_cost\u001b[0m\u001b[0;34m,\u001b[0m     \u001b[0;36m0\u001b[0m\u001b[0;34m)\u001b[0m\u001b[0;34m,\u001b[0m\u001b[0;34m\u001b[0m\u001b[0m\n\u001b[0m\u001b[1;32m     61\u001b[0m     \u001b[0;34m(\u001b[0m\u001b[0mtotal_jerk_cost\u001b[0m\u001b[0;34m,\u001b[0m   \u001b[0;36m0\u001b[0m\u001b[0;34m)\u001b[0m\u001b[0;34m,\u001b[0m\u001b[0;34m\u001b[0m\u001b[0m\n\u001b[1;32m     62\u001b[0m     \u001b[0;34m(\u001b[0m\u001b[0mcollision_cost\u001b[0m\u001b[0;34m,\u001b[0m    \u001b[0;36m1\u001b[0m\u001b[0;34m)\u001b[0m\u001b[0;34m,\u001b[0m\u001b[0;34m\u001b[0m\u001b[0m\n",
      "\u001b[0;31mNameError\u001b[0m: name 'max_jerk_cost' is not defined"
     ]
    }
   ],
   "source": [
    "from ptg import JMT\n",
    "from helpers import Vehicle\n",
    "from constants import MAX_JERK, MAX_ACCEL\n",
    "\n",
    "\n",
    "def efficiency_cost(traj, target_vehicle, delta, T, predictions):\n",
    "    \"\"\"\n",
    "    Rewards high average speeds.\n",
    "    \"\"\"\n",
    "    s, _, t = traj\n",
    "    s = to_equation(s)\n",
    "    avg_v = float(s(t)) / t\n",
    "    return logistic(avg_v)\n",
    "\n",
    "def nearest_approach_to_any_vehicle(traj, vehicles):\n",
    "    \"\"\"\n",
    "    Calculates the closest distance to any vehicle during a trajectory.\n",
    "    \"\"\"\n",
    "    closest = 999999\n",
    "    for vid, v in vehicles.items():\n",
    "        d = nearest_approach(traj,v)\n",
    "        if d < closest:\n",
    "            closest = d\n",
    "    return closest\n",
    "\n",
    "def nearest_approach(traj, vehicle):\n",
    "    closest = 999999\n",
    "    s_,d_,T = traj\n",
    "    s = to_equation(s_)\n",
    "    d = to_equation(d_)\n",
    "    for i in range(100):\n",
    "        t = float(i) / 100 * T\n",
    "        cur_s = s(t)\n",
    "        cur_d = d(t)\n",
    "        targ_s, _, _, targ_d, _, _ = vehicle.state_in(t)\n",
    "        dist = sqrt((cur_s-targ_s)**2 + (cur_d-targ_d)**2)\n",
    "        if dist < closest:\n",
    "            closest = dist\n",
    "    return closest\n",
    "\n",
    "\n",
    "def buffer_cost(traj, target_vehicle, delta, T, predictions):\n",
    "    \"\"\"\n",
    "    Penalizes getting close to other vehicles.\n",
    "    \"\"\"\n",
    "    \n",
    "    nearest = nearest_approach_to_any_vehicle(traj, predictions)\n",
    "    \n",
    "    #print ('nearst:', nearest)\n",
    "    return logistic(2*VEHICLE_RADIUS / nearest)\n",
    "\n",
    "\n",
    "\n",
    "\n",
    "WEIGHTED_COST_FUNCTIONS = [\n",
    "    #(time_diff_cost,    1),\n",
    "    #(s_diff_cost,       1),\n",
    "    #(d_diff_cost,       1),\n",
    "    (efficiency_cost,   1),\n",
    "    (max_jerk_cost,     0),\n",
    "    (total_jerk_cost,   0),\n",
    "    (collision_cost,    1),\n",
    "    (buffer_cost,       0),\n",
    "    (max_accel_cost,    0),\n",
    "    (total_accel_cost,  0),\n",
    "]\n",
    "\n",
    "\n",
    "\n",
    "\n",
    "def PTG(predictions, target_vehicle,  delta_d, max_acc=100.0, rt=[float(a)/10 for a in range(15,25)]):\n",
    "    # generate alternative goals\n",
    "    all_goals = []\n",
    "    start_s = target_vehicle.state_in(0)[:3]\n",
    "    start_d = target_vehicle.state_in(0)[3:]\n",
    "    \n",
    "    \n",
    "    for t in rt:\n",
    "        for acc in [0]:#[-max_acc/2,-max_acc/4,0,max_acc/2,max_acc/4]:\n",
    "            target=target_vehicle.state_in(t)\n",
    "            target[0]+=acc*t\n",
    "            target[3]+=delta_d\n",
    "            all_goals.append((target[:3],target[3:],t))\n",
    "            \n",
    "    # find best trajectory\n",
    "    trajectories = []\n",
    "    for goal in all_goals:\n",
    "        s_goal, d_goal, t = goal\n",
    "        s_coefficients = JMT(start_s, s_goal, t)\n",
    "        d_coefficients = JMT(start_d, d_goal, t)\n",
    "        trajectories.append(tuple([s_coefficients, d_coefficients, t]))\n",
    "    \n",
    "    costs=[calculate_cost(tr, None, None, tr[-1], predictions, WEIGHTED_COST_FUNCTIONS) for tr in trajectories]\n",
    "    \n",
    "    print ('costs:', costs,'\\n\\n')\n",
    "    \n",
    "    best = min(trajectories, key=lambda tr: \\\n",
    "               calculate_cost(tr, None, None, tr[-1], predictions, WEIGHTED_COST_FUNCTIONS))\n",
    "    print ('best=',best)\n",
    "    cost = calculate_cost(best, target_vehicle, delta, T, predictions, WEIGHTED_COST_FUNCTIONS, verbose=True)\n",
    "    return trajectories[0],trajectories[-1]"
   ]
  },
  {
   "cell_type": "code",
   "execution_count": 162,
   "metadata": {
    "collapsed": false
   },
   "outputs": [],
   "source": [
    "tmp2[1][0]=end_path_s"
   ]
  },
  {
   "cell_type": "code",
   "execution_count": 169,
   "metadata": {
    "collapsed": false
   },
   "outputs": [
    {
     "name": "stdout",
     "output_type": "stream",
     "text": [
      "costs: [1.0, 1.0, 1.0, 1.0, 1.0, 1.0, 1.0, 1.0, 1.0, 1.0] \n",
      "\n",
      "\n",
      "best= (array([ 889.4632    ,   20.96902477,    0.        ,    0.        ,\n",
      "         -0.        ,    0.        ]), array([  5.884211  ,   0.        ,   0.        , -11.50877333,\n",
      "        11.50877333,  -3.06900622]), 1.5)\n",
      "(array([ 889.4632    ,   20.96902477,    0.        ,    0.        ,\n",
      "          0.        ,    0.        ]), array([ 5.884211  ,  0.        ,  0.        , -2.80975911,  1.75609945,\n",
      "       -0.29268324]), 2.4)\n"
     ]
    }
   ],
   "source": [
    "vehicle = Vehicle([end_path_s,car_speed,0,end_path_d, 0,0])\n",
    "\n",
    "predictions = {}\n",
    "#add all other vehicles\n",
    "for i in range(len(tmp2)):\n",
    "    predictions[i+1]=Vehicle([tmp2[i][0],tmp2[i][2],0,tmp2[i][1], 0,0,0])\n",
    "\n",
    "target = best_line*4+2\n",
    "delta = [0, 0, 0, 0, 0 ,0]\n",
    "start_s = [end_path_s, car_speed, 0]\n",
    "start_d = [end_path_d, 0, 0]\n",
    "T = 2.5\n",
    "\n",
    "res=PTG(predictions, vehicle, best_line*4+2-end_path_d)\n",
    "\n",
    "print (res[-1])"
   ]
  },
  {
   "cell_type": "code",
   "execution_count": 144,
   "metadata": {
    "collapsed": false
   },
   "outputs": [
    {
     "data": {
      "text/plain": [
       "((array([ 889.4632    ,   20.96902477,    0.        , -222.22222222,\n",
       "          222.22222222,  -59.25925926]),\n",
       "  array([  5.884211  ,   0.        ,   0.        , -11.50877333,\n",
       "          11.50877333,  -3.06900622]),\n",
       "  1.5),\n",
       " 1.0)"
      ]
     },
     "execution_count": 144,
     "metadata": {},
     "output_type": "execute_result"
    }
   ],
   "source": [
    "res"
   ]
  },
  {
   "cell_type": "code",
   "execution_count": 145,
   "metadata": {
    "collapsed": false
   },
   "outputs": [
    {
     "name": "stdout",
     "output_type": "stream",
     "text": [
      "1.5\n"
     ]
    },
    {
     "data": {
      "image/png": "[encoded data removed]",
      "text/plain": [
       "<matplotlib.figure.Figure at 0x11dfb8438>"
      ]
     },
     "metadata": {},
     "output_type": "display_data"
    }
   ],
   "source": [
    "%matplotlib inline\n",
    "import matplotlib.pyplot as plt\n",
    "\n",
    "cnt_points=100\n",
    "points=np.zeros((cnt_points,2), dtype=np.float)\n",
    "\n",
    "q=res[0]\n",
    "T=res[0][2]\n",
    "\n",
    "print (T)\n",
    "\n",
    "for i in range(cnt_points):\n",
    "    t=T*float(i)/cnt_points\n",
    "    \n",
    "    s=sum([q[0][j]*t**j for j in range(6)])\n",
    "    d=sum([q[1][j]*t**j for j in range(6)])\n",
    "    points[i]=[s,d]\n",
    "    \n",
    "plt.scatter(points[:,0],points[:,1])\n",
    "plt.show()"
   ]
  },
  {
   "cell_type": "code",
   "execution_count": 137,
   "metadata": {
    "collapsed": false
   },
   "outputs": [
    {
     "name": "stdout",
     "output_type": "stream",
     "text": [
      "1\n",
      "2\n",
      "3\n",
      "4\n",
      "5\n",
      "6\n",
      "7\n",
      "8\n",
      "9\n",
      "10\n",
      "11\n",
      "12\n",
      "1.5\n"
     ]
    },
    {
     "data": {
      "image/png": "[encoded data removed]",
      "text/plain": [
       "<matplotlib.figure.Figure at 0x120b34c18>"
      ]
     },
     "metadata": {},
     "output_type": "display_data"
    }
   ],
   "source": [
    "%matplotlib inline \n",
    "import matplotlib.pyplot as plt \n",
    "from matplotlib.pyplot import cm \n",
    "\n",
    "\n",
    "q=res[0]\n",
    "T=res[0][2]\n",
    "\n",
    "\n",
    "\n",
    "tmp=data1[995]\n",
    "prev_x, prev_y, end_path_s, end_path_d, car_speed, ref_yaw, other_cars=get_variables(tmp)\n",
    "axes = plt.gca()\n",
    "axes.set_ylim([0,4*3])\n",
    "axes.set_xlim([end_path_s-100,end_path_s+100])\n",
    "\n",
    "line=round((tmp['d']-2)/4)\n",
    "best_line=get_best_line(other_cars, line, end_path_s, car_speed)\n",
    "\n",
    "plt.title('Line=%d Best_line=%d' %(line,best_line))\n",
    "\n",
    "tmp2=[[a[-2],a[-1],sqrt(a[-3]**2+a[-4]**2)] for a in tmp['sensor_fusion'] if a[-1]>=0]\n",
    "\n",
    "color=cm.rainbow(np.linspace(0,1,len(tmp2)+1))\n",
    "\n",
    "\n",
    "for vid, vehicle in predictions.items():\n",
    "    points=np.zeros((cnt_points,2), dtype=np.float)\n",
    "\n",
    "\n",
    "    for i in range(cnt_points):\n",
    "        t=T*float(i)/cnt_points \n",
    "        s=vehicle.state_in(t)[0]\n",
    "        d=vehicle.state_in(t)[3]\n",
    "        \n",
    "        points[i]=[s,d]\n",
    "    color='blue'\n",
    "    print (vid)\n",
    "    if vid==2:\n",
    "        color='green'\n",
    "    plt.scatter(points[:,0],points[:,1],s=150, color=color)\n",
    "    \n",
    "points=np.zeros((cnt_points,2), dtype=np.float)\n",
    "\n",
    "q=res[0]\n",
    "T=res[0][2]\n",
    "\n",
    "print (T)\n",
    "\n",
    "for i in range(cnt_points):\n",
    "    t=T*float(i)/cnt_points\n",
    "    \n",
    "    s=sum([q[0][j]*t**j for j in range(6)])\n",
    "    d=sum([q[1][j]*t**j for j in range(6)])\n",
    "    points[i]=[s,d]\n",
    "    \n",
    "plt.scatter(points[:,0],points[:,1],color='red')\n",
    "plt.show()    \n",
    "    \n",
    "plt.show()"
   ]
  },
  {
   "cell_type": "code",
   "execution_count": 12,
   "metadata": {
    "collapsed": true
   },
   "outputs": [],
   "source": [
    "z=Vehicle([end_path_s,car_speed,0,end_path_d, 0,0])"
   ]
  },
  {
   "cell_type": "code",
   "execution_count": 13,
   "metadata": {
    "collapsed": false
   },
   "outputs": [
    {
     "data": {
      "text/plain": [
       "[889.4632, 20.969024774646886, 0, 5.884211, 0, 0]"
      ]
     },
     "execution_count": 13,
     "metadata": {},
     "output_type": "execute_result"
    }
   ],
   "source": [
    "z.state_in(0)"
   ]
  },
  {
   "cell_type": "code",
   "execution_count": 14,
   "metadata": {
    "collapsed": false
   },
   "outputs": [
    {
     "data": {
      "text/plain": [
       "889.4632"
      ]
     },
     "execution_count": 14,
     "metadata": {},
     "output_type": "execute_result"
    }
   ],
   "source": [
    "end_path_s"
   ]
  },
  {
   "cell_type": "code",
   "execution_count": 115,
   "metadata": {
    "collapsed": false
   },
   "outputs": [],
   "source": [
    "s1,d1=predictions[2].state_in(T)[0],predictions[2].state_in(T)[3]"
   ]
  },
  {
   "cell_type": "code",
   "execution_count": 116,
   "metadata": {
    "collapsed": true
   },
   "outputs": [],
   "source": [
    "s=sum([q[0][j]*T**j for j in range(6)])\n",
    "d=sum([q[1][j]*T**j for j in range(6)])\n",
    "    "
   ]
  },
  {
   "cell_type": "code",
   "execution_count": 117,
   "metadata": {
    "collapsed": false
   },
   "outputs": [
    {
     "data": {
      "text/plain": [
       "(914.16673716197033, 1.9999999999999929, 913.7537139178997, 1.896934)"
      ]
     },
     "execution_count": 117,
     "metadata": {},
     "output_type": "execute_result"
    }
   ],
   "source": [
    "s,d, s1, d1"
   ]
  },
  {
   "cell_type": "code",
   "execution_count": 118,
   "metadata": {
    "collapsed": false
   },
   "outputs": [
    {
     "data": {
      "text/plain": [
       "0.4256886191790779"
      ]
     },
     "execution_count": 118,
     "metadata": {},
     "output_type": "execute_result"
    }
   ],
   "source": [
    "sqrt((s1-s)**2+(d1-d)**2)"
   ]
  },
  {
   "cell_type": "code",
   "execution_count": 192,
   "metadata": {
    "collapsed": true
   },
   "outputs": [],
   "source": [
    "def total_accel_cost(traj):\n",
    "    s, d, t = traj\n",
    "    s_dot = differentiate(s)\n",
    "    s_d_dot = differentiate(s_dot)\n",
    "    a = to_equation(s_d_dot)\n",
    "    total_acc = 0\n",
    "    dt = float(T) / 100.0\n",
    "    for i in range(100):\n",
    "        t = dt * i\n",
    "        acc = a(t)\n",
    "        total_acc += abs(acc*dt)\n",
    "    acc_per_second = total_acc / T\n",
    "    \n",
    "    return logistic(acc_per_second / EXPECTED_ACC_IN_ONE_SEC )\n",
    "    \n",
    "def max_accel_cost(traj):\n",
    "    s, d, t = traj\n",
    "    s_dot = differentiate(s)\n",
    "    s_d_dot = differentiate(s_dot)\n",
    "    a = to_equation(s_d_dot)\n",
    "    all_accs = [a(float(T)/100 * i) for i in range(100)]\n",
    "    max_acc = max(all_accs, key=abs)\n",
    "    if abs(max_acc) > MAX_ACCEL: return 1\n",
    "    else: return 0\n",
    "    \n",
    "\n",
    "def max_jerk_cost(traj):\n",
    "    s, d, t = traj\n",
    "    T=t\n",
    "    s_dot = differentiate(s)\n",
    "    s_d_dot = differentiate(s_dot)\n",
    "    jerk = differentiate(s_d_dot)\n",
    "    jerk = to_equation(jerk)\n",
    "    all_jerks = [jerk(float(T)/100 * i) for i in range(100)]\n",
    "    max_jerk = max(all_jerks, key=abs)\n",
    "    if abs(max_jerk) > MAX_JERK: return 1\n",
    "    else: return 0\n",
    "\n",
    "def total_jerk_cost(traj):\n",
    "    s, d, t = traj\n",
    "    T=t\n",
    "    s_dot = differentiate(s)\n",
    "    s_d_dot = differentiate(s_dot)\n",
    "    jerk = to_equation(differentiate(s_d_dot))\n",
    "    print (s, s_dot, s_d_dot)\n",
    "    total_jerk = 0\n",
    "    dt = float(T) / 100.0\n",
    "    for i in range(100):\n",
    "        t = dt * i\n",
    "        j = jerk(t)\n",
    "        total_jerk += abs(j*dt)\n",
    "    jerk_per_second = total_jerk / T\n",
    "    return logistic(jerk_per_second / EXPECTED_JERK_IN_ONE_SEC )"
   ]
  },
  {
   "cell_type": "code",
   "execution_count": 176,
   "metadata": {
    "collapsed": false
   },
   "outputs": [
    {
     "data": {
      "text/plain": [
       "(array([ 889.4632    ,   20.96902477,    0.        ,    0.        ,\n",
       "          -0.        ,    0.        ]),\n",
       " array([  5.884211  ,   0.        ,   0.        , -11.50877333,\n",
       "         11.50877333,  -3.06900622]),\n",
       " 1.5)"
      ]
     },
     "execution_count": 176,
     "metadata": {},
     "output_type": "execute_result"
    }
   ],
   "source": [
    "res[0]"
   ]
  },
  {
   "cell_type": "code",
   "execution_count": 177,
   "metadata": {
    "collapsed": false
   },
   "outputs": [
    {
     "data": {
      "text/plain": [
       "(array([ 889.4632    ,   20.96902477,    0.        ,    0.        ,\n",
       "           0.        ,    0.        ]),\n",
       " array([ 5.884211  ,  0.        ,  0.        , -2.80975911,  1.75609945,\n",
       "        -0.29268324]),\n",
       " 2.4)"
      ]
     },
     "execution_count": 177,
     "metadata": {},
     "output_type": "execute_result"
    }
   ],
   "source": [
    "res[1]"
   ]
  },
  {
   "cell_type": "code",
   "execution_count": 193,
   "metadata": {
    "collapsed": false
   },
   "outputs": [
    {
     "name": "stdout",
     "output_type": "stream",
     "text": [
      "[ 889.4632       20.96902477    0.            0.           -0.            0.        ] [20.969024774646886, 0.0, 0.0, -0.0, 0.0] [0.0, 0.0, -0.0, 0.0]\n",
      "[ 889.4632       20.96902477    0.            0.            0.            0.        ] [20.969024774646886, 0.0, 0.0, 0.0, 0.0] [0.0, 0.0, 0.0, 0.0]\n"
     ]
    },
    {
     "data": {
      "text/plain": [
       "(0.0, 0.0)"
      ]
     },
     "execution_count": 193,
     "metadata": {},
     "output_type": "execute_result"
    }
   ],
   "source": [
    "total_jerk_cost(res[0]), total_jerk_cost(res[1])"
   ]
  },
  {
   "cell_type": "code",
   "execution_count": 194,
   "metadata": {
    "collapsed": false
   },
   "outputs": [
    {
     "data": {
      "text/plain": [
       "(array([ 889.4632    ,   20.96902477,    0.        ,    0.        ,\n",
       "          -0.        ,    0.        ]),\n",
       " array([  5.884211  ,   0.        ,   0.        , -11.50877333,\n",
       "         11.50877333,  -3.06900622]),\n",
       " 1.5)"
      ]
     },
     "execution_count": 194,
     "metadata": {},
     "output_type": "execute_result"
    }
   ],
   "source": [
    "res[0]"
   ]
  },
  {
   "cell_type": "code",
   "execution_count": null,
   "metadata": {
    "collapsed": true
   },
   "outputs": [],
   "source": []
  }
 ],
 "metadata": {
  "kernelspec": {
   "display_name": "cars-v2",
   "language": "python",
   "name": "carnd-term1"
  },
  "language_info": {
   "codemirror_mode": {
    "name": "ipython",
    "version": 3
   },
   "file_extension": ".py",
   "mimetype": "text/x-python",
   "name": "python",
   "nbconvert_exporter": "python",
   "pygments_lexer": "ipython3",
   "version": "3.5.2"
  }
 },
 "nbformat": 4,
 "nbformat_minor": 0
}
